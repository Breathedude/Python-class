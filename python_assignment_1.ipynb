{
 "cells": [
  {
   "cell_type": "markdown",
   "metadata": {},
   "source": [
    "# 1.Design a Python program to find the average of best two marks out of three marks taken as input."
   ]
  },
  {
   "cell_type": "code",
   "execution_count": null,
   "metadata": {},
   "outputs": [],
   "source": [
    "print(\"Average of three marks\")\n",
    "print(\"Enter the three marks\")\n",
    "a = float(input(\"1. : \"))\n",
    "b = float(input(\"2. : \"))\n",
    "c = float(input(\"3. : \"))\n",
    "l = list()\n",
    "l.append(a);l.append(b);l.append(c)\n",
    "l.sort()\n",
    "avg = (l[1] + l[2])/2\n",
    "print(\"The average of your marks is \", avg)\n"
   ]
  },
  {
   "cell_type": "markdown",
   "metadata": {},
   "source": [
    "# 2.Write a program to read the following input from user and display.\n",
    "\n",
    " ## a. Name :\n",
    " ## b. USN :\n",
    " ## c. Roll NO:\n",
    " ## d. Mobile No:\n",
    " ## e. E-Mail id :\n",
    " ## f. Percentage of Marks :\n"
   ]
  },
  {
   "cell_type": "code",
   "execution_count": null,
   "metadata": {},
   "outputs": [],
   "source": [
    "print(\"Student details\")\n",
    "name = input(\"Enter student Name : \")\n",
    "usn = input(\"Enter student USN : \")\n",
    "roll = input(\"Enter student Roll No. : \")\n",
    "num = input(\"Enter student Mobile number : \")\n",
    "mail = input(\"Enter student E-Mail id : \")\n",
    "per = input(\"Enter student Percentage of Marks : \")\n",
    "print(\"Name : \",name)\n",
    "print(\"USN : \",usn)\n",
    "print(\"Roll No. : \",roll)\n",
    "print(\"Mobile No. : \",num)\n",
    "print(\"E-Mail id : \",mail)\n",
    "print(\"Percentage of Marks : \",per)\n"
   ]
  },
  {
   "cell_type": "markdown",
   "metadata": {},
   "source": [
    "# 3. A string with parentheses is well bracketed if all parentheses are matched: every opening bracket has a matching closing bracket and vice versa. Write a Python function wellbracketed(s) that takes a string s containing parentheses and returns True if s is well bracketed and False otherwise.\n",
    "# Here are some examples to show how your function should work.\n",
    "# >>> wellbracketed(\"22)\")\n",
    "# False\n",
    "# >>> wellbracketed(\"(a+b)(a-b)\")\n",
    "# True\n",
    "# >>> wellbracketed(\"(a(b+c)-d)((e+f)\") \n",
    "# False"
   ]
  },
  {
   "cell_type": "code",
   "execution_count": null,
   "metadata": {},
   "outputs": [],
   "source": [
    "def wellbracketed(s):\n",
    "    nested = 0\n",
    "    for i in range(0,len(s)):\n",
    "        if s[i] == \"(\":\n",
    "            nested = nested+1\n",
    "        elif s[i] == \")\":\n",
    "            nested = nested-1\n",
    "    if (nested < 0 or nested > 0):\n",
    "        print(\"False\")  \n",
    "    else:\n",
    "        print(\"True\")\n",
    "        \n",
    "wellbracketed(\"22)\")\n",
    "wellbracketed(\"(a+b)(a-b)\")\n",
    "wellbracketed(\"(a(b+c)-d)((e+f)\")"
   ]
  },
  {
   "cell_type": "markdown",
   "metadata": {},
   "source": [
    "# 4. A positive integer m is a sum of squares if it can be written as k + x where k > 0, x > 0 and both k and x are perfect squares. Write a Python function sumofsquares(m) that takes an integer m returns True if m is a sum of squares and False otherwise. Here are some examples to show how your function should work.\n",
    "# >>> sumofsquares(41)\n",
    "# True\n",
    "# >>> sumofsquares(30)\n",
    "# False\n",
    "# >>> sumofsquares(17)\n",
    "# True"
   ]
  },
  {
   "cell_type": "code",
   "execution_count": null,
   "metadata": {},
   "outputs": [],
   "source": [
    "import math\n",
    "\n",
    "\n",
    "def sum_of_squares(n):\n",
    "    a = int(math.sqrt(n))\n",
    "    for i in range(0, a + 1):\n",
    "        for j in range(0, a + 1):\n",
    "            if (i**2) + (j**2) == n:\n",
    "                return True\n",
    "    return False\n",
    "\n",
    "\n",
    "n = int(input(\"Enter a number: \"))\n",
    "print(sum_of_squares(n))"
   ]
  },
  {
   "cell_type": "markdown",
   "metadata": {},
   "source": [
    "# 5.  Write a program to prompt for a score between 0.0 and 1.0. If the score is out of range, print an error message. If the score is between 0.0 and 1.0, print a grade using the following table. {Note: Create a function called computegrade that takes a score as its parameter and returns a grade as a string.}"
   ]
  },
  {
   "cell_type": "code",
   "execution_count": null,
   "metadata": {},
   "outputs": [],
   "source": [
    "def computegrade():\n",
    "    score = float(input(\"Enter the score : \"))\n",
    "    if(score < 0.0 or score > 1.0):\n",
    "        print(\"Score out of range\")\n",
    "    else:\n",
    "        if(score > 0.9):\n",
    "            return('A')\n",
    "        elif(score > 0.8):\n",
    "            return('B')\n",
    "        elif(score > 0.7):\n",
    "            return('C')\n",
    "        elif(score > 0.6):\n",
    "            return('D')\n",
    "        else:\n",
    "            return('E')\n",
    "a = computegrade()\n",
    "print(a)\n"
   ]
  },
  {
   "cell_type": "markdown",
   "metadata": {},
   "source": [
    "# 6. Write a program to reverse a string."
   ]
  },
  {
   "cell_type": "code",
   "execution_count": null,
   "metadata": {},
   "outputs": [],
   "source": [
    "s = input(\"Enter a string: \")\n",
    "rev = s[::-1]\n",
    "print(\"Entered string: \",s)\n",
    "print(\"Reversed string: \",rev)"
   ]
  },
  {
   "cell_type": "markdown",
   "metadata": {},
   "source": [
    "# 7. Write a program to display all the palindrome words appearing in an input text."
   ]
  },
  {
   "cell_type": "code",
   "execution_count": null,
   "metadata": {},
   "outputs": [],
   "source": [
    "text = input(\"Enter some text : \")\n",
    "l = list()\n",
    "print(\"Entered text : \")\n",
    "l = text.split(\" \")\n",
    "print(\"Palindrome words in the text are ; \")\n",
    "for i in l:\n",
    "    rev = i[::-1]\n",
    "    if(i == rev):\n",
    "        print(i)\n",
    "        "
   ]
  },
  {
   "cell_type": "markdown",
   "metadata": {},
   "source": [
    "# 8.Write a python program to display the ASCII code of the given character."
   ]
  },
  {
   "cell_type": "code",
   "execution_count": null,
   "metadata": {},
   "outputs": [],
   "source": [
    "a = input(\"Enter a character : \")\n",
    "b = ord(a)\n",
    "print(\"ASCII code of \",a,\" is \",b)"
   ]
  },
  {
   "cell_type": "markdown",
   "metadata": {},
   "source": [
    "# 9. Write a python program to compute percentage score of a student by reading his scores in 6 subjects, also display the name and score of the subject with highest and lowest score."
   ]
  },
  {
   "cell_type": "code",
   "execution_count": null,
   "metadata": {},
   "outputs": [],
   "source": [
    "m1 = float(input(\"Enter marks for the first subject:\"))\n",
    "m2 = float(input(\"Enter marks for the second subject:\"))\n",
    "m3 = float(input(\"Enter marks for the third subject:\"))\n",
    "m4 = float(input(\"Enter marks for the fourth subject:\"))\n",
    "m5 = float(input(\"Enter marks for the fifth subject:\"))\n",
    "m6 = float(input(\"Enter marks for the sixth subject:\"))\n",
    "score_list = [m1, m2, m3, m4, m5, m6]\n",
    "print(\"Score:\", sum(score_list) / len(score_list))\n",
    "print(\"Max:\", max(score_list))\n",
    "print(\"Min:\", min(score_list))"
   ]
  },
  {
   "cell_type": "markdown",
   "metadata": {},
   "source": [
    "# 10.Write a python program to prompt the user for hours and rate per hour to compute gross pay."
   ]
  },
  {
   "cell_type": "code",
   "execution_count": null,
   "metadata": {},
   "outputs": [],
   "source": [
    "print(\"Computing gross pay\")\n",
    "hours = float(input(\"Enter the number of hours :\"))\n",
    "rate_per_hour = float(input(\"Enter the rate per hour :\"))\n",
    "gross_pay = rate_per_hour * hours\n",
    "print(\"Gross pay = \",gross_pay)"
   ]
  },
  {
   "cell_type": "markdown",
   "metadata": {},
   "source": [
    "# 11.Write a program which prompts the user for a Celsius temperature, covert the temperature to Fahrenheit, and print out the converted temperature."
   ]
  },
  {
   "cell_type": "code",
   "execution_count": null,
   "metadata": {},
   "outputs": [],
   "source": [
    "cel = float(input(\"Enter temperature in celcius : \"))\n",
    "far = (cel*(9/5)+32)\n",
    "print(\"Temperature in Celcius = \",cel)\n",
    "print(\"Temperature in Fahrenheit = \",far)"
   ]
  },
  {
   "cell_type": "markdown",
   "metadata": {},
   "source": [
    "# 12. Write a python program to read a number A which contains only digits 0's and 1's. Check if it is possible to make all the digits same by just flipping one digit. Print 'YES' if flipping results in making all digit’s same else print 'NO'.\n"
   ]
  },
  {
   "cell_type": "code",
   "execution_count": null,
   "metadata": {},
   "outputs": [],
   "source": [
    "a = int(input(\"Enter a binary number : \"))\n",
    "rem = 0\n",
    "count0=0\n",
    "count1=0\n",
    "if(a==0):\n",
    "    print(\"YES\")\n",
    "else:\n",
    "    while(a!=0):\n",
    "        rem = a%10\n",
    "        if(rem==0):\n",
    "            count0+=1\n",
    "        elif(rem==1):\n",
    "            count1+=1\n",
    "        a = a/10\n",
    "    if(count0==1 or count1==1):\n",
    "        print(\"YES\")\n",
    "    else:\n",
    "        print(\"NO\")\n"
   ]
  },
  {
   "cell_type": "markdown",
   "metadata": {},
   "source": [
    "# 13. Write a program to list out all prime numbers between two integers m and n."
   ]
  },
  {
   "cell_type": "code",
   "execution_count": null,
   "metadata": {},
   "outputs": [],
   "source": [
    "m = int(input(\"Enter the value of m : \"))\n",
    "n = int(input(\"Enter the value of n : \"))\n",
    "print(\"Prime numbars between \",m,\"and \",n,\"are :\")\n",
    "l = list()\n",
    "for i in range(m,n+1):\n",
    "    for x in range(2,i):\n",
    "        if(i%x==0):\n",
    "            break\n",
    "    else:\n",
    "        print(i)\n",
    "for a in l:\n",
    "    print(a)\n"
   ]
  },
  {
   "cell_type": "markdown",
   "metadata": {},
   "source": [
    "# 14. Write a program to count the frequency of characters in a string."
   ]
  },
  {
   "cell_type": "code",
   "execution_count": null,
   "metadata": {},
   "outputs": [],
   "source": [
    "stri = input(\"Enter a string : \")\n",
    "freq = {} \n",
    "  \n",
    "for i in stri: \n",
    "    if i in freq: \n",
    "        freq[i] += 1\n",
    "    else: \n",
    "        freq[i] = 1\n",
    "print (\"Count of all characters in string is :\\n \", freq) "
   ]
  },
  {
   "cell_type": "markdown",
   "metadata": {},
   "source": [
    "# 15. Write a Python function to get a string made of the first 2 and the last 2 chars from a given string. If the string length is less than 2, return empty string, otherwise return new string created."
   ]
  },
  {
   "cell_type": "code",
   "execution_count": null,
   "metadata": {},
   "outputs": [],
   "source": [
    "def twochar():\n",
    "    s = input(\"Enter a string : \")\n",
    "    if(len(s) < 2):\n",
    "        return('')\n",
    "    else:\n",
    "        b = s[len(s)-2:len(s)]\n",
    "        a = s[0:2]\n",
    "        return(a+b)\n",
    "x = twochar()\n",
    "print(x)"
   ]
  },
  {
   "cell_type": "markdown",
   "metadata": {},
   "source": [
    "# 16.Consider a string s=“Hello how are you?”. Write a program to display this string without spaces."
   ]
  },
  {
   "cell_type": "code",
   "execution_count": null,
   "metadata": {},
   "outputs": [],
   "source": [
    "s = \"Hello how are you?\"\n",
    "l=list()\n",
    "st1 = ''\n",
    "l = s.split(\" \")\n",
    "for i in l:\n",
    "    st1 = st1+str(i)\n",
    "print(st1)\n",
    "    "
   ]
  },
  {
   "cell_type": "markdown",
   "metadata": {},
   "source": [
    "# 17.Write a Python program to remove the characters which have odd index values of a given string."
   ]
  },
  {
   "cell_type": "code",
   "execution_count": null,
   "metadata": {},
   "outputs": [],
   "source": [
    "s = input(\"Enter a string : \")\n",
    "a = s[0:len(s):2]\n",
    "print(a)"
   ]
  },
  {
   "cell_type": "markdown",
   "metadata": {},
   "source": [
    "# 18.Write a Python program to change a given string to a new string where the first and last chars have been exchanged."
   ]
  },
  {
   "cell_type": "code",
   "execution_count": null,
   "metadata": {},
   "outputs": [],
   "source": [
    "s = input(\"Enter a string : \")\n",
    "a = s[len(s)-1]+s[1:len(s)-1]+s[0]\n",
    "print(a)"
   ]
  },
  {
   "cell_type": "markdown",
   "metadata": {},
   "source": [
    "# 19.Write a Python program to add 'ing' at the end of a given string (length should be at least 3). If the given string already ends with 'ing' then add 'ly' instead. If the string length of the given string is less than 3, leave it unchanged\n",
    "# Sample String : 'abc'\n",
    "# Expected Result : 'abcing'\n",
    "# Sample String : 'string'\n",
    "# Expected Result : 'stringly‘"
   ]
  },
  {
   "cell_type": "code",
   "execution_count": null,
   "metadata": {},
   "outputs": [],
   "source": [
    "s = input(\"Enter a string : \")\n",
    "if(len(s)<3):\n",
    "    print(s)\n",
    "else:\n",
    "    if(s.endswith(\"ing\")):\n",
    "        print(s+\"ly\")\n",
    "    else:\n",
    "        print(s+\"ing\")"
   ]
  },
  {
   "cell_type": "markdown",
   "metadata": {},
   "source": [
    "# 20. Write a python program to generate first n Fibonacci number and factorial of n using functions."
   ]
  },
  {
   "cell_type": "code",
   "execution_count": null,
   "metadata": {},
   "outputs": [],
   "source": [
    "def factorial(n):\n",
    "    fact = 1\n",
    "    for i in range(1, n + 1):\n",
    "        fact = fact * i\n",
    "    print(fact)\n",
    "\n",
    "\n",
    "def fibonacci(n):\n",
    "    fib1 = 0\n",
    "    fib2 = 1\n",
    "    fib3 = fib1 + fib2\n",
    "    print(fib1)\n",
    "    print(fib2)\n",
    "    for i in range(2, n):\n",
    "        print(fib3)\n",
    "        fib1 = fib2\n",
    "        fib2 = fib3\n",
    "        fib3 = fib1 + fib2\n",
    "\n",
    "num = int(input(\"Enter a number : \"))\n",
    "print(\"Factorial of \",num,\" is\",factorial(num))\n",
    "print(num,\" fibonacci series:\")\n",
    "fibonacci(num)"
   ]
  },
  {
   "cell_type": "markdown",
   "metadata": {},
   "source": [
    "# 21. Write a program to find HCF and LCM of number."
   ]
  },
  {
   "cell_type": "code",
   "execution_count": null,
   "metadata": {},
   "outputs": [],
   "source": [
    "def hcf(x, y):\n",
    "    while (y):\n",
    "        x, y = y, x % y\n",
    "    return x\n",
    "\n",
    "\n",
    "def lcm(x, y):\n",
    "    lcm = (x * y) // hcf(x, y)\n",
    "    return lcm\n",
    "\n",
    "\n",
    "a = int(input(\"Enter a value for a:\"))\n",
    "b = int(input(\"Enter a value for b:\"))\n",
    "\n",
    "print(\"HCF of \",a,\" and \",b,\" is \",hcf(a, b))\n",
    "print(\"LCM of \",a,\" and \",b,\" is \",lcm(a, b))"
   ]
  },
  {
   "cell_type": "markdown",
   "metadata": {},
   "source": [
    "# 22. Write a python program to illustrate reverse, compare, copy and concatenate operations on strings without using built in functions, also compute lengths of the strings being read without using len( )."
   ]
  },
  {
   "cell_type": "code",
   "execution_count": null,
   "metadata": {},
   "outputs": [],
   "source": [
    "a = input(\"Enter the first string : \")\n",
    "b = input(\"Enter the second string : \")\n",
    "rev = a[::-1]\n",
    "print(\"Reverse of string \",a,\" is \",rev)\n",
    "\n",
    "print(\"Comparing string \",a,\" and \",b)\n",
    "print(a==b)\n",
    "c = ''\n",
    "print(\"Copying string \",a,\" to c\")\n",
    "for x in a:\n",
    "    c = c+x\n",
    "print(\"Copied string = \",c)\n",
    "print(\"Concatenation of \",a,\" and \",b,\" is \",a+b)\n",
    "\n",
    "count=0\n",
    "for i in a:\n",
    "    count+=1\n",
    "print(\"Length of \",a,\" is \",count)"
   ]
  },
  {
   "cell_type": "markdown",
   "metadata": {},
   "source": [
    "# 23.Write a python program to evaluate the polynomial f'(x): a4x4 + a3x3 + a2x2 + a1x1 + a0, for a given value of x and its coefficients using Horner's method."
   ]
  },
  {
   "cell_type": "code",
   "execution_count": null,
   "metadata": {},
   "outputs": [],
   "source": [
    "def horner(poly, n, x):\n",
    "    result = poly[0]\n",
    "    for i in range(1, n):\n",
    "        result = result * x + poly[i]\n",
    "    print(\"The value of polynomial at x = \" + str(x) + \" is \" + str(result))\n",
    "\n",
    "\n",
    "a0 = int(input(\"Enter a value for a0:\"))\n",
    "a1 = int(input(\"Enter a value for a1:\"))\n",
    "a2 = int(input(\"Enter a value for a2:\"))\n",
    "a3 = int(input(\"Enter a value for a3:\"))\n",
    "a4 = int(input(\"Enter a value for a4:\"))\n",
    "\n",
    "poly = [a0, a1, a2, a3, a4]\n",
    "x = int(input(\"Enter the value for x:\"))\n",
    "n = len(poly)\n",
    "horner(poly, n, x)"
   ]
  },
  {
   "cell_type": "markdown",
   "metadata": {},
   "source": [
    "# 24.Write a python program to convert decimal number to it’s equivalent binary."
   ]
  },
  {
   "cell_type": "code",
   "execution_count": null,
   "metadata": {},
   "outputs": [],
   "source": [
    "a = int(input(\"Enter a number\"))\n",
    "b=''\n",
    "while(a!=0):\n",
    "    c=a%2\n",
    "    b=b+str(c)\n",
    "    a=a//2\n",
    "print(b[::-1])"
   ]
  },
  {
   "cell_type": "markdown",
   "metadata": {},
   "source": [
    "# 25.Write a python function isprime(num) that accepts an integer argument and returns 1 if the argument is prime, a 0 otherwise. Write a python program that invokes this function to generate prime numbers between the given ranges."
   ]
  },
  {
   "cell_type": "code",
   "execution_count": null,
   "metadata": {},
   "outputs": [],
   "source": [
    "def is_prime(num):\n",
    "    flag = 0\n",
    "    for i in range(2, num):\n",
    "        if num % i == 0:\n",
    "            flag = 1\n",
    "            break\n",
    "    if flag == 1:\n",
    "        return False\n",
    "    else:\n",
    "        return True\n",
    "\n",
    "def range_prime(lower,upper):\n",
    "    for i in range(lower,upper+1):\n",
    "        if(is_prime(i)):\n",
    "            print(i)\n",
    "            \n",
    "num = int(input(\"Enter a number : \"))\n",
    "x = is_prime(num)\n",
    "if(x):\n",
    "    print(num,\" is a prime number\")\n",
    "\n",
    "print(\"Prime numbers between given ranges \")\n",
    "lower = int(input(\"Enter lower limit : \"))\n",
    "upper = int(input(\"Enter upper limit : \"))\n",
    "range_prime(lower,upper)"
   ]
  },
  {
   "cell_type": "markdown",
   "metadata": {},
   "source": [
    "# 26. Write a python program to replace each constant in a string with the next one except letter ‘z’, ‘Z’, ‘a’ and ‘A’. Thus the string “Programming is Fun” should be modified as “Qsphsannjoh jtgvo”."
   ]
  },
  {
   "cell_type": "code",
   "execution_count": null,
   "metadata": {},
   "outputs": [],
   "source": [
    "s = input(\"Enter a string:\")\n",
    "str2 = ''\n",
    "asci = 0\n",
    "for ch in s:\n",
    "    if ch not in ['Z', 'z', 'a', 'A']:\n",
    "        str2 += chr(ord(ch) + 1)\n",
    "    else:\n",
    "        str2 += ch\n",
    "print(str2)"
   ]
  },
  {
   "cell_type": "markdown",
   "metadata": {},
   "source": [
    "# 27.Write a program to read through a file and print the contents of the file (line by line) all in upper case, also count number of characters, words and lines in a file."
   ]
  },
  {
   "cell_type": "code",
   "execution_count": null,
   "metadata": {},
   "outputs": [],
   "source": [
    "line_count = 0\n",
    "char_count = 0\n",
    "word_count = 0\n",
    "s = ''\n",
    "with open(\"text_file.txt\", 'r') as file:\n",
    "    for line in file:\n",
    "        words = line.split()\n",
    "        line_count += 1\n",
    "        word_count += len(words)\n",
    "        char_count += len(line)\n",
    "        print(line.upper())\n",
    "print(line_count, word_count, char_count)"
   ]
  },
  {
   "cell_type": "markdown",
   "metadata": {},
   "source": [
    "# 28.Write a program to prompt for a file name, and then read through the file and look for lines of the form:\n",
    "# CGPA: 9.7\n",
    "# When a line that starts with “CGPA:” is encountered, pull apart the line to extract the floating-point number on the line. Count these lines and then compute the total of the CGPA. When the end of file is reached, print out the average CGPA."
   ]
  },
  {
   "cell_type": "code",
   "execution_count": null,
   "metadata": {},
   "outputs": [],
   "source": [
    "import re\n",
    "file_name = input(\"Enter a file name:\")\n",
    "file = open(file_name, 'r')\n",
    "cgpa_list = []\n",
    "temp = []\n",
    "for line in file:\n",
    "    if line.startswith(\"CGPA:\"):\n",
    "        temp = re.findall(\"[0-9]+.[0-9]+\", line)\n",
    "        if len(temp) == 1:\n",
    "            cgpa = float(temp[0])\n",
    "            cgpa_list.append(cgpa)\n",
    "        temp = []\n",
    "    else:\n",
    "        continue\n",
    "print(\"Sum: \", sum(cgpa_list), \" Mean: \", sum(cgpa_list) / len(cgpa_list))"
   ]
  },
  {
   "cell_type": "markdown",
   "metadata": {},
   "source": [
    "# 29. Write a program to search and print all the lines starting with a specific word (taken as keyboard input) in a file."
   ]
  },
  {
   "cell_type": "code",
   "execution_count": null,
   "metadata": {},
   "outputs": [],
   "source": [
    "s = input(\"Enter the search string:\")\n",
    "file = open(\"text_file.txt\", 'r')\n",
    "for line in file:\n",
    "    if line.startswith(s):\n",
    "        print(line)"
   ]
  },
  {
   "cell_type": "markdown",
   "metadata": {},
   "source": [
    "# 30. Given two university information files “studentname.txt” and “usn.txt” that contains students Name and USN respectively. Write a python program to create a new file called “output.txt” and copy the content of files “studentname.txt” and “usn.txt” into output file in the sequence shown below. Display the contents of output file “output.txt” on to the screen."
   ]
  },
  {
   "cell_type": "code",
   "execution_count": null,
   "metadata": {},
   "outputs": [],
   "source": [
    "student_file = open(\"studentname.txt\", 'r')\n",
    "usn_file = open(\"usn.txt\", 'r')\n",
    "student_list = []\n",
    "usn_list = []\n",
    "for line in student_file:\n",
    "    student_list.append(line.rstrip())\n",
    "for line in usn_file:\n",
    "    usn_list.append(line.rstrip())\n",
    "\n",
    "student_usn_dict = dict(zip(student_list, usn_list))\n",
    "print(student_usn_dict)\n",
    "with open(\"output.txt\", 'w') as output_file:\n",
    "    output_file.write(\"Student Name\\tUSN\\n\")\n",
    "    for key, val in student_usn_dict.items():\n",
    "        #     print(key, val)\n",
    "        output_file.write(key + \"\\t\" + val + \"\\n\")"
   ]
  },
  {
   "cell_type": "code",
   "execution_count": null,
   "metadata": {},
   "outputs": [],
   "source": []
  },
  {
   "cell_type": "code",
   "execution_count": null,
   "metadata": {},
   "outputs": [],
   "source": []
  }
 ],
 "metadata": {
  "kernelspec": {
   "display_name": "Python 3",
   "language": "python",
   "name": "python3"
  },
  "language_info": {
   "codemirror_mode": {
    "name": "ipython",
    "version": 3
   },
   "file_extension": ".py",
   "mimetype": "text/x-python",
   "name": "python",
   "nbconvert_exporter": "python",
   "pygments_lexer": "ipython3",
   "version": "3.6.7"
  }
 },
 "nbformat": 4,
 "nbformat_minor": 2
}
