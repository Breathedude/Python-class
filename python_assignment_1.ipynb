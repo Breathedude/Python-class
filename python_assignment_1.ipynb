{
 "cells": [
  {
   "cell_type": "markdown",
   "metadata": {},
   "source": [
    "# 1.Design a Python program to find the average of best two marks out of three marks taken as input."
   ]
  },
  {
   "cell_type": "code",
   "execution_count": 2,
   "metadata": {},
   "outputs": [
    {
     "name": "stdout",
     "output_type": "stream",
     "text": [
      "Average of three marks\n",
      "Enter the three marks\n",
      "1. : 3\n",
      "2. : 4\n",
      "3. : 5\n",
      "The average of your marks is  4.5\n"
     ]
    }
   ],
   "source": [
    "print(\"Average of three marks\")\n",
    "print(\"Enter the three marks\")\n",
    "a = float(input(\"1. : \"))\n",
    "b = float(input(\"2. : \"))\n",
    "c = float(input(\"3. : \"))\n",
    "l = list()\n",
    "l.append(a);l.append(b);l.append(c)\n",
    "l.sort()\n",
    "avg = (l[1] + l[2])/2\n",
    "print(\"The average of your marks is \", avg)\n"
   ]
  },
  {
   "cell_type": "markdown",
   "metadata": {},
   "source": [
    "# 2.Write a program to read the following input from user and display.\n",
    "\n",
    " ## a. Name :\n",
    " ## b. USN :\n",
    " ## c. Roll NO:\n",
    " ## d. Mobile No:\n",
    " ## e. E-Mail id :\n",
    " ## f. Percentage of Marks :\n"
   ]
  },
  {
   "cell_type": "code",
   "execution_count": 3,
   "metadata": {},
   "outputs": [
    {
     "name": "stdout",
     "output_type": "stream",
     "text": [
      "Student details\n",
      "Enter student Name : Rachitha\n",
      "Enter student USN : 4SF16IS025\n",
      "Enter student Roll No. : 01\n",
      "Enter student Mobile number : 8904840771\n",
      "Enter student E-Mail id : rachithabayar@gmail.com\n",
      "Enter student Percentage of Marks : 90%\n",
      "Name :  Rachitha\n",
      "USN :  4SF16IS025\n",
      "Roll No. :  01\n",
      "Mobile No. :  8904840771\n",
      "E-Mail id :  rachithabayar@gmail.com\n",
      "Percentage of Marks :  90%\n"
     ]
    }
   ],
   "source": [
    "print(\"Student details\")\n",
    "name = input(\"Enter student Name : \")\n",
    "usn = input(\"Enter student USN : \")\n",
    "roll = input(\"Enter student Roll No. : \")\n",
    "num = input(\"Enter student Mobile number : \")\n",
    "mail = input(\"Enter student E-Mail id : \")\n",
    "per = input(\"Enter student Percentage of Marks : \")\n",
    "print(\"Name : \",name)\n",
    "print(\"USN : \",usn)\n",
    "print(\"Roll No. : \",roll)\n",
    "print(\"Mobile No. : \",num)\n",
    "print(\"E-Mail id : \",mail)\n",
    "print(\"Percentage of Marks : \",per)\n"
   ]
  },
  {
   "cell_type": "markdown",
   "metadata": {},
   "source": [
    "# 3. A string with parentheses is well bracketed if all parentheses are matched: every opening bracket has a matching closing bracket and vice versa. Write a Python function wellbracketed(s) that takes a string s containing parentheses and returns True if s is well bracketed and False otherwise.\n",
    "# Here are some examples to show how your function should work.\n",
    "# >>> wellbracketed(\"22)\")\n",
    "# False\n",
    "# >>> wellbracketed(\"(a+b)(a-b)\")\n",
    "# True\n",
    "# >>> wellbracketed(\"(a(b+c)-d)((e+f)\") \n",
    "# False"
   ]
  },
  {
   "cell_type": "code",
   "execution_count": null,
   "metadata": {},
   "outputs": [],
   "source": [
    "def wellbracketed(s):\n",
    "    nested = 0\n",
    "    for i in range(0,len(s)):\n",
    "        if s[i] == \"(\":\n",
    "            nested = nested+1\n",
    "        elif s[i] == \")\":\n",
    "            nested = nested-1\n",
    "    if (nested < 0 or nested > 0):\n",
    "        print(\"False\")  \n",
    "    else:\n",
    "        print(\"True\")\n",
    "        \n",
    "wellbracketed(\"22)\")\n",
    "wellbracketed(\"(a+b)(a-b)\")\n",
    "wellbracketed(\"(a(b+c)-d)((e+f)\")"
   ]
  },
  {
   "cell_type": "markdown",
   "metadata": {},
   "source": [
    "# 4. A positive integer m is a sum of squares if it can be written as k + x where k > 0, x > 0 and both k and x are perfect squares. Write a Python function sumofsquares(m) that takes an integer m returns True if m is a sum of squares and False otherwise. Here are some examples to show how your function should work.\n",
    "# >>> sumofsquares(41)\n",
    "# True\n",
    "# >>> sumofsquares(30)\n",
    "# False\n",
    "# >>> sumofsquares(17)\n",
    "# True"
   ]
  },
  {
   "cell_type": "code",
   "execution_count": null,
   "metadata": {},
   "outputs": [],
   "source": [
    "# Enter code here!"
   ]
  },
  {
   "cell_type": "markdown",
   "metadata": {},
   "source": [
    "# 5.  Write a program to prompt for a score between 0.0 and 1.0. If the score is out of range, print an error message. If the score is between 0.0 and 1.0, print a grade using the following table. {Note: Create a function called computegrade that takes a score as its parameter and returns a grade as a string.}"
   ]
  },
  {
   "cell_type": "code",
   "execution_count": 28,
   "metadata": {},
   "outputs": [
    {
     "name": "stdout",
     "output_type": "stream",
     "text": [
      "Enter the score : 2\n",
      "Score out of range\n",
      "None\n"
     ]
    }
   ],
   "source": [
    "def computegrade():\n",
    "    score = float(input(\"Enter the score : \"))\n",
    "    if(score < 0.0 or score > 1.0):\n",
    "        print(\"Score out of range\")\n",
    "    else:\n",
    "        if(score > 0.9):\n",
    "            return('A')\n",
    "        elif(score > 0.8):\n",
    "            return('B')\n",
    "        elif(score > 0.7):\n",
    "            return('C')\n",
    "        elif(score > 0.6):\n",
    "            return('D')\n",
    "        else:\n",
    "            return('E')\n",
    "a = computegrade()\n",
    "print(a)\n"
   ]
  },
  {
   "cell_type": "markdown",
   "metadata": {},
   "source": [
    "# 6. Write a program to reverse a string."
   ]
  },
  {
   "cell_type": "code",
   "execution_count": 31,
   "metadata": {},
   "outputs": [
    {
     "name": "stdout",
     "output_type": "stream",
     "text": [
      "Enter a string: rachi\n",
      "Entered string:  rachi\n",
      "Reversed string:  ihcar\n"
     ]
    }
   ],
   "source": [
    "s = input(\"Enter a string: \")\n",
    "rev = s[::-1]\n",
    "print(\"Entered string: \",s)\n",
    "print(\"Reversed string: \",rev)"
   ]
  },
  {
   "cell_type": "markdown",
   "metadata": {},
   "source": [
    "# 7. Write a program to display all the palindrome words appearing in an input text."
   ]
  },
  {
   "cell_type": "code",
   "execution_count": 37,
   "metadata": {},
   "outputs": [
    {
     "name": "stdout",
     "output_type": "stream",
     "text": [
      "Enter some text : aba bab dhgdhgf\n",
      "Entered text : \n",
      "Palindrome words in the text are ; \n",
      "aba\n",
      "bab\n"
     ]
    }
   ],
   "source": [
    "text = input(\"Enter some text : \")\n",
    "l = list()\n",
    "print(\"Entered text : \")\n",
    "l = text.split(\" \")\n",
    "print(\"Palindrome words in the text are ; \")\n",
    "for i in l:\n",
    "    rev = i[::-1]\n",
    "    if(i == rev):\n",
    "        print(i)\n",
    "        "
   ]
  },
  {
   "cell_type": "markdown",
   "metadata": {},
   "source": [
    "# 8.Write a python program to display the ASCII code of the given character."
   ]
  },
  {
   "cell_type": "code",
   "execution_count": 38,
   "metadata": {},
   "outputs": [
    {
     "name": "stdout",
     "output_type": "stream",
     "text": [
      "Enter a character : A\n",
      "ASCII code of  A  is  65\n"
     ]
    }
   ],
   "source": [
    "a = input(\"Enter a character : \")\n",
    "b = ord(a)\n",
    "print(\"ASCII code of \",a,\" is \",b)"
   ]
  },
  {
   "cell_type": "markdown",
   "metadata": {},
   "source": [
    "# 9. Write a python program to compute percentage score of a student by reading his scores in 6 subjects, also display the name and score of the subject with highest and lowest score."
   ]
  },
  {
   "cell_type": "code",
   "execution_count": null,
   "metadata": {},
   "outputs": [],
   "source": [
    "\n"
   ]
  },
  {
   "cell_type": "markdown",
   "metadata": {},
   "source": [
    "# 10.Write a python program to prompt the user for hours and rate per hour to compute gross pay."
   ]
  },
  {
   "cell_type": "code",
   "execution_count": 41,
   "metadata": {},
   "outputs": [
    {
     "name": "stdout",
     "output_type": "stream",
     "text": [
      "Computing gross pay\n",
      "Enter the number of hours :5\n",
      "Enter the rate per hour :10\n",
      "Gross pay =  50.0\n"
     ]
    }
   ],
   "source": [
    "print(\"Computing gross pay\")\n",
    "hours = float(input(\"Enter the number of hours :\"))\n",
    "rate_per_hour = float(input(\"Enter the rate per hour :\"))\n",
    "gross_pay = rate_per_hour * hours\n",
    "print(\"Gross pay = \",gross_pay)"
   ]
  },
  {
   "cell_type": "markdown",
   "metadata": {},
   "source": [
    "# 11.Write a program which prompts the user for a Celsius temperature, covert the temperature to Fahrenheit, and print out the converted temperature."
   ]
  },
  {
   "cell_type": "code",
   "execution_count": 43,
   "metadata": {},
   "outputs": [
    {
     "name": "stdout",
     "output_type": "stream",
     "text": [
      "Enter temperature in celcius : 5\n",
      "Temperature in Celcius =  5.0\n",
      "Temperature in Fahrenheit =  41.0\n"
     ]
    }
   ],
   "source": [
    "cel = float(input(\"Enter temperature in celcius : \"))\n",
    "far = (cel*(9/5)+32)\n",
    "print(\"Temperature in Celcius = \",cel)\n",
    "print(\"Temperature in Fahrenheit = \",far)"
   ]
  },
  {
   "cell_type": "markdown",
   "metadata": {},
   "source": [
    "# 12. Write a python program to read a number A which contains only digits 0's and 1's. Check if it is possible to make all the digits same by just flipping one digit. Print 'YES' if flipping results in making all digit’s same else print 'NO'.\n"
   ]
  },
  {
   "cell_type": "code",
   "execution_count": 55,
   "metadata": {},
   "outputs": [
    {
     "name": "stdout",
     "output_type": "stream",
     "text": [
      "Enter a binary number : 0011\n",
      "YES\n"
     ]
    }
   ],
   "source": [
    "a = int(input(\"Enter a binary number : \"))\n",
    "rem = 0\n",
    "count0=0\n",
    "count1=0\n",
    "if(a==0):\n",
    "    print(\"YES\")\n",
    "else:\n",
    "    while(a!=0):\n",
    "        rem = a%10\n",
    "        if(rem==0):\n",
    "            count0+=1\n",
    "        elif(rem==1):\n",
    "            count1+=1\n",
    "        a = a/10\n",
    "    if(count0==1 or count1==1):\n",
    "        print(\"YES\")\n",
    "    else:\n",
    "        print(\"NO\")\n"
   ]
  },
  {
   "cell_type": "markdown",
   "metadata": {},
   "source": [
    "# 13. Write a program to list out all prime numbers between two integers m and n."
   ]
  },
  {
   "cell_type": "code",
   "execution_count": 12,
   "metadata": {},
   "outputs": [
    {
     "name": "stdout",
     "output_type": "stream",
     "text": [
      "Enter the value of m : 3\n",
      "Enter the value of n : 9\n",
      "Prime numbars between  3 and  9 are :\n",
      "3\n",
      "5\n",
      "7\n"
     ]
    }
   ],
   "source": [
    "m = int(input(\"Enter the value of m : \"))\n",
    "n = int(input(\"Enter the value of n : \"))\n",
    "print(\"Prime numbars between \",m,\"and \",n,\"are :\")\n",
    "l = list()\n",
    "for i in range(m,n+1):\n",
    "    for x in range(2,i):\n",
    "        if(i%x==0):\n",
    "            break\n",
    "    else:\n",
    "        print(i)\n",
    "for a in l:\n",
    "    print(a)\n"
   ]
  },
  {
   "cell_type": "markdown",
   "metadata": {},
   "source": [
    "# 14. Write a program to count the frequency of characters in a string."
   ]
  },
  {
   "cell_type": "code",
   "execution_count": 17,
   "metadata": {},
   "outputs": [
    {
     "name": "stdout",
     "output_type": "stream",
     "text": [
      "Enter a string : aaaba\n",
      "Count of all characters in string is :\n",
      "  {'a': 4, 'b': 1}\n"
     ]
    }
   ],
   "source": [
    "stri = input(\"Enter a string : \")\n",
    "freq = {} \n",
    "  \n",
    "for i in stri: \n",
    "    if i in freq: \n",
    "        freq[i] += 1\n",
    "    else: \n",
    "        freq[i] = 1\n",
    "print (\"Count of all characters in string is :\\n \", freq) "
   ]
  },
  {
   "cell_type": "code",
   "execution_count": null,
   "metadata": {},
   "outputs": [],
   "source": [
    "# "
   ]
  }
 ],
 "metadata": {
  "kernelspec": {
   "display_name": "Python 3",
   "language": "python",
   "name": "python3"
  },
  "language_info": {
   "codemirror_mode": {
    "name": "ipython",
    "version": 3
   },
   "file_extension": ".py",
   "mimetype": "text/x-python",
   "name": "python",
   "nbconvert_exporter": "python",
   "pygments_lexer": "ipython3",
   "version": "3.6.7"
  }
 },
 "nbformat": 4,
 "nbformat_minor": 2
}
