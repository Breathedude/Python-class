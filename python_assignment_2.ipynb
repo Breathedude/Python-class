{
 "cells": [
  {
   "cell_type": "markdown",
   "metadata": {},
   "source": [
    "### 1. Write Python Program to find the largest number in a list"
   ]
  },
  {
   "cell_type": "code",
   "execution_count": 5,
   "metadata": {},
   "outputs": [
    {
     "name": "stdout",
     "output_type": "stream",
     "text": [
      "77\n"
     ]
    }
   ],
   "source": [
    "l = [2,4,5,8,9,11,23,43,56,2,1,77,23]\n",
    "l = sorted(l)\n",
    "print(l[len(l)-1])\n"
   ]
  },
  {
   "cell_type": "markdown",
   "metadata": {},
   "source": [
    "### 2. Python Program to Compute a Polynomial Equation given that the Coefficients of the Polynomial are stored in a List."
   ]
  },
  {
   "cell_type": "code",
   "execution_count": 6,
   "metadata": {},
   "outputs": [
    {
     "name": "stdout",
     "output_type": "stream",
     "text": [
      "Enter a value for a0:1\n",
      "Enter a value for a1:2\n",
      "Enter a value for a2:3\n",
      "Enter a value for a3:4\n",
      "Enter a value for a4:5\n",
      "Enter the value for x:1\n",
      "The value of polynomial at x = 1 is 15\n"
     ]
    }
   ],
   "source": [
    "def horner(poly, n, x):\n",
    "    result = poly[0]\n",
    "    for i in range(1, n):\n",
    "        result = result * x + poly[i]\n",
    "    print(\"The value of polynomial at x = \" + str(x) + \" is \" + str(result))\n",
    "\n",
    "\n",
    "a0 = int(input(\"Enter a value for a0:\"))\n",
    "a1 = int(input(\"Enter a value for a1:\"))\n",
    "a2 = int(input(\"Enter a value for a2:\"))\n",
    "a3 = int(input(\"Enter a value for a3:\"))\n",
    "a4 = int(input(\"Enter a value for a4:\"))\n",
    "\n",
    "poly = [a0, a1, a2, a3, a4]\n",
    "x = int(input(\"Enter the value for x:\"))\n",
    "n = len(poly)\n",
    "horner(poly, n, x)"
   ]
  },
  {
   "cell_type": "markdown",
   "metadata": {},
   "source": [
    "### 3. Python Program to Count the Frequency of Words Appearing in a String Using a Dictionary"
   ]
  },
  {
   "cell_type": "code",
   "execution_count": 9,
   "metadata": {},
   "outputs": [
    {
     "name": "stdout",
     "output_type": "stream",
     "text": [
      "Enter a stringapple and apple is an apple\n",
      "apple  appears  3  times \n",
      "and  appears  1  times \n",
      "is  appears  1  times \n",
      "an  appears  1  times \n"
     ]
    }
   ],
   "source": [
    "str1 = input(\"Enter a string\")\n",
    "d = dict()\n",
    "str1 = str1.split()\n",
    "str1\n",
    "for i in str1:\n",
    "    if i in d:\n",
    "        d[i] = d[i]+1\n",
    "    else:\n",
    "        d[i] = 1 \n",
    "for x,y in d.items():\n",
    "    print(x,\" appears \",y,\" times \")"
   ]
  },
  {
   "cell_type": "markdown",
   "metadata": {},
   "source": [
    "### 4. Python Program to Find the Sum of Elements in a List Recursively"
   ]
  },
  {
   "cell_type": "code",
   "execution_count": 10,
   "metadata": {},
   "outputs": [
    {
     "name": "stdout",
     "output_type": "stream",
     "text": [
      "Enter the number of elements for list:3\n",
      "Enter element:1\n",
      "Enter element:2\n",
      "Enter element:3\n",
      "The list is:\n",
      "[1, 2, 3]\n",
      "Sum of items in list:\n",
      "6\n"
     ]
    }
   ],
   "source": [
    "def sum_arr(arr,size):\n",
    "   if (size == 0):\n",
    "     return 0\n",
    "   else:\n",
    "     return arr[size-1] + sum_arr(arr,size-1)\n",
    "\n",
    "n=int(input(\"Enter the number of elements for list:\"))\n",
    "a=[]\n",
    "for i in range(0,n):\n",
    "    element=int(input(\"Enter element:\"))\n",
    "    a.append(element)\n",
    "print(\"The list is:\")\n",
    "print(a)\n",
    "print(\"Sum of items in list:\")\n",
    "b=sum_arr(a,n)\n",
    "print(b)\n"
   ]
  },
  {
   "cell_type": "markdown",
   "metadata": {},
   "source": [
    "### 5. Python Program to Find the Intersection of Two Lists"
   ]
  },
  {
   "cell_type": "code",
   "execution_count": 15,
   "metadata": {},
   "outputs": [
    {
     "name": "stdout",
     "output_type": "stream",
     "text": [
      "Enter the number of elements for list 1 : 2\n",
      "Enter element:1\n",
      "Enter element:2\n",
      "The list is:\n",
      "[1, 2]\n",
      "Enter the number of elements for list 2 :2\n",
      "Enter element:1\n",
      "Enter element:2\n",
      "The list is:\n",
      "[1, 2]\n",
      "Intersection of lists =  [1, 2]\n"
     ]
    }
   ],
   "source": [
    "def intersection(lst1, lst2):\n",
    "    lst3 = []\n",
    "    #lst3 = [value for value in lst1 if value in lst2] \n",
    "    for l in lst1:\n",
    "        if l in lst2:\n",
    "            lst3.append(l)\n",
    "    return lst3 \n",
    "n=int(input(\"Enter the number of elements for list 1 : \"))\n",
    "a=[]\n",
    "for i in range(0,n):\n",
    "    element=int(input(\"Enter element:\"))\n",
    "    a.append(element)\n",
    "print(\"The list is:\")\n",
    "print(a)\n",
    "n=int(input(\"Enter the number of elements for list 2 :\"))\n",
    "b=[]\n",
    "for i in range(0,n):\n",
    "    element=int(input(\"Enter element:\"))\n",
    "    b.append(element)\n",
    "print(\"The list is:\")\n",
    "print(b)\n",
    "print(\"Intersection of lists = \",intersection(a,b))"
   ]
  },
  {
   "cell_type": "markdown",
   "metadata": {},
   "source": [
    "### 6. Write Python Program to put the even and odd elements in list into two different lists"
   ]
  },
  {
   "cell_type": "code",
   "execution_count": 18,
   "metadata": {},
   "outputs": [
    {
     "name": "stdout",
     "output_type": "stream",
     "text": [
      "Enter the number of elements for list 1 : 3\n",
      "Enter element:1\n",
      "Enter element:2\n",
      "Enter element:3\n",
      "The list is:\n",
      "[1, 2, 3]\n",
      "Even list :  [2]\n",
      "Odd list :  [1, 3]\n"
     ]
    }
   ],
   "source": [
    "def even_and_odd(a):\n",
    "    le = []\n",
    "    lo = []\n",
    "    for l in a:\n",
    "        if l%2 == 0:\n",
    "            le.append(l)\n",
    "        else:\n",
    "            lo.append(l)\n",
    "    print(\"Even list : \",le)\n",
    "    print(\"Odd list : \",lo)\n",
    "    \n",
    "n=int(input(\"Enter the number of elements for list 1 : \"))\n",
    "a=[]\n",
    "for i in range(0,n):\n",
    "    element=int(input(\"Enter element:\"))\n",
    "    a.append(element)\n",
    "print(\"The list is:\")\n",
    "print(a)\n",
    "even_and_odd(a)"
   ]
  },
  {
   "cell_type": "markdown",
   "metadata": {},
   "source": [
    "### 7. Write Python Program to merge two lists and sort it."
   ]
  },
  {
   "cell_type": "code",
   "execution_count": 19,
   "metadata": {},
   "outputs": [
    {
     "name": "stdout",
     "output_type": "stream",
     "text": [
      "Enter the number of elements for list 1 : 3\n",
      "Enter element:1\n",
      "Enter element:2\n",
      "Enter element:3\n",
      "The list is:\n",
      "[1, 2, 3]\n",
      "Enter the number of elements for list 2 :3\n",
      "Enter element:6\n",
      "Enter element:5\n",
      "Enter element:4\n",
      "The list is:\n",
      "[6, 5, 4]\n",
      "Sorted list :  [1, 2, 3, 4, 5, 6]\n"
     ]
    }
   ],
   "source": [
    "def merge_and_sort(l1,l2):\n",
    "    for l in l1:\n",
    "        l2.append(l)\n",
    "    l2 = sorted(l2)\n",
    "    print(\"Sorted list : \",l2)\n",
    "\n",
    "n=int(input(\"Enter the number of elements for list 1 : \"))\n",
    "a=[]\n",
    "for i in range(0,n):\n",
    "    element=int(input(\"Enter element:\"))\n",
    "    a.append(element)\n",
    "print(\"The list is:\")\n",
    "print(a)\n",
    "n=int(input(\"Enter the number of elements for list 2 :\"))\n",
    "b=[]\n",
    "for i in range(0,n):\n",
    "    element=int(input(\"Enter element:\"))\n",
    "    b.append(element)\n",
    "print(\"The list is:\")\n",
    "print(b)\n",
    "merge_and_sort(a,b)"
   ]
  },
  {
   "cell_type": "markdown",
   "metadata": {},
   "source": [
    "### 8. Python Program to swap the first and last value of a list"
   ]
  },
  {
   "cell_type": "code",
   "execution_count": 21,
   "metadata": {},
   "outputs": [
    {
     "name": "stdout",
     "output_type": "stream",
     "text": [
      "Enter the number of elements for list : 3\n",
      "Enter element:1\n",
      "Enter element:2\n",
      "Enter element:3\n",
      "The list is:\n",
      "[1, 2, 3]\n",
      "[3, 2, 1]\n"
     ]
    }
   ],
   "source": [
    "def swap(a):\n",
    "    a[0],a[len(a)-1] = a[len(a)-1],a[0]\n",
    "    print(a)\n",
    "\n",
    "n=int(input(\"Enter the number of elements for list : \"))\n",
    "a=[]\n",
    "for i in range(0,n):\n",
    "    element=int(input(\"Enter element:\"))\n",
    "    a.append(element)\n",
    "print(\"The list is:\")\n",
    "print(a)\n",
    "swap(a)"
   ]
  },
  {
   "cell_type": "markdown",
   "metadata": {},
   "source": [
    "### 9. Python Program to remove the nth index character from a non-empty string."
   ]
  },
  {
   "cell_type": "code",
   "execution_count": 34,
   "metadata": {},
   "outputs": [
    {
     "name": "stdout",
     "output_type": "stream",
     "text": [
      "Enter the string : Python\n",
      "Enter the index : 3\n",
      "Pyton\n"
     ]
    }
   ],
   "source": [
    "def del_nth_index(str1,n):\n",
    "    l = list(str1)\n",
    "    del l[n]\n",
    "    s = ''.join(l)\n",
    "    print(s)\n",
    "    \n",
    "str1 = input(\"Enter the string : \")\n",
    "n = int(input(\"Enter the index : \"))\n",
    "del_nth_index(str1,n)"
   ]
  },
  {
   "cell_type": "markdown",
   "metadata": {},
   "source": [
    "### 10. Python Program to remove the characters of odd index values in a string."
   ]
  },
  {
   "cell_type": "code",
   "execution_count": 42,
   "metadata": {},
   "outputs": [
    {
     "name": "stdout",
     "output_type": "stream",
     "text": [
      "Enter a string : asdfgh\n",
      "['a', 'd', 'g']\n",
      "adg\n"
     ]
    }
   ],
   "source": [
    "def remove_odd(a):\n",
    "    ls = list(a)\n",
    "    le = []\n",
    "    for l in range(0,len(ls)):\n",
    "        if l%2 == 0:\n",
    "            le.append(ls[l])\n",
    "    print(le)\n",
    "    s = ''.join(le)\n",
    "    print(s)\n",
    "\n",
    "a = input(\"Enter a string : \")\n",
    "remove_odd(a)"
   ]
  },
  {
   "cell_type": "markdown",
   "metadata": {},
   "source": [
    "### 11. Write a Python program to multiplies all the items in a list"
   ]
  },
  {
   "cell_type": "code",
   "execution_count": 45,
   "metadata": {},
   "outputs": [
    {
     "name": "stdout",
     "output_type": "stream",
     "text": [
      "Enter the number of elements for list:3\n",
      "Enter element:2\n",
      "Enter element:5\n",
      "Enter element:8\n",
      "The list is:\n",
      "[2, 5, 8]\n",
      "Product of items in list:\n",
      "80\n"
     ]
    }
   ],
   "source": [
    "def pro_arr(arr,size):\n",
    "   if (size == 0):\n",
    "     return 1\n",
    "   else:\n",
    "     return arr[size-1] * sum_arr(arr,size-1)\n",
    "\n",
    "n=int(input(\"Enter the number of elements for list:\"))\n",
    "a=[]\n",
    "for i in range(0,n):\n",
    "    element=int(input(\"Enter element:\"))\n",
    "    a.append(element)\n",
    "print(\"The list is:\")\n",
    "print(a)\n",
    "print(\"Product of items in list:\")\n",
    "b=pro_arr(a,n)\n",
    "print(b)"
   ]
  },
  {
   "cell_type": "markdown",
   "metadata": {},
   "source": [
    "### 12. Write a Python program to remove duplicates from a list."
   ]
  },
  {
   "cell_type": "code",
   "execution_count": 46,
   "metadata": {},
   "outputs": [
    {
     "name": "stdout",
     "output_type": "stream",
     "text": [
      "Enter the number of elements for list:3\n",
      "Enter element:1\n",
      "Enter element:1\n",
      "Enter element:2\n",
      "The list is:\n",
      "[1, 1, 2]\n",
      "[1, 2]\n"
     ]
    }
   ],
   "source": [
    "def rem_dup(l):\n",
    "    l = list(dict.fromkeys(l))\n",
    "    print(l)\n",
    "n=int(input(\"Enter the number of elements for list:\"))\n",
    "a=[]\n",
    "for i in range(0,n):\n",
    "    element=int(input(\"Enter element:\"))\n",
    "    a.append(element)\n",
    "print(\"The list is:\")\n",
    "print(a)\n",
    "rem_dup(a)"
   ]
  },
  {
   "cell_type": "markdown",
   "metadata": {},
   "source": [
    "### 13. Write a Python program to check a list is empty or not"
   ]
  },
  {
   "cell_type": "code",
   "execution_count": 70,
   "metadata": {},
   "outputs": [
    {
     "name": "stdout",
     "output_type": "stream",
     "text": [
      "List is empty\n"
     ]
    }
   ],
   "source": [
    "def is_empty(l):\n",
    "    if len(l) == 0:\n",
    "        print(\"List is empty\")\n",
    "l = []\n",
    "is_empty(l)"
   ]
  },
  {
   "cell_type": "markdown",
   "metadata": {},
   "source": [
    "### 14. Write a Python function that takes two lists and returns True if they have at least one common member."
   ]
  },
  {
   "cell_type": "code",
   "execution_count": 71,
   "metadata": {},
   "outputs": [
    {
     "name": "stdout",
     "output_type": "stream",
     "text": [
      "Enter the number of elements for list 1 : 3\n",
      "Enter element:1\n",
      "Enter element:2\n",
      "Enter element:3\n",
      "The list is:\n",
      "[1, 2, 3]\n",
      "Enter the number of elements for list 2 :3\n",
      "Enter element:2\n",
      "Enter element:1\n",
      "Enter element:2\n",
      "The list is:\n",
      "[2, 1, 2]\n",
      "True\n"
     ]
    }
   ],
   "source": [
    "def intersection(lst1, lst2): \n",
    "    for l in lst1:\n",
    "        if l in lst2:\n",
    "            return True\n",
    "        else:\n",
    "            return False\n",
    "n=int(input(\"Enter the number of elements for list 1 : \"))\n",
    "a=[]\n",
    "for i in range(0,n):\n",
    "    element=int(input(\"Enter element:\"))\n",
    "    a.append(element)\n",
    "print(\"The list is:\")\n",
    "print(a)\n",
    "n=int(input(\"Enter the number of elements for list 2 :\"))\n",
    "b=[]\n",
    "for i in range(0,n):\n",
    "    element=int(input(\"Enter element:\"))\n",
    "    b.append(element)\n",
    "print(\"The list is:\")\n",
    "print(b)\n",
    "x = intersection(a,b)\n",
    "print(x)"
   ]
  },
  {
   "cell_type": "markdown",
   "metadata": {},
   "source": [
    "### 15.  Write a Python program to count the number of elements in a list within a specified range."
   ]
  },
  {
   "cell_type": "code",
   "execution_count": 72,
   "metadata": {},
   "outputs": [
    {
     "name": "stdout",
     "output_type": "stream",
     "text": [
      "6\n"
     ]
    }
   ],
   "source": [
    "def count_elements(l,a,b):\n",
    "    count = 0\n",
    "    for x in l:\n",
    "        if(x >= a and x <= b):\n",
    "            count+=1\n",
    "    print(count)\n",
    "l = [1,2,34,5,37,8,55,67,9,8]\n",
    "a = 1\n",
    "b = 10\n",
    "count_elements(l,a,b)"
   ]
  },
  {
   "cell_type": "markdown",
   "metadata": {},
   "source": [
    "### 16. Write a Python program to insert an element before each element of a list.\n"
   ]
  },
  {
   "cell_type": "code",
   "execution_count": 78,
   "metadata": {},
   "outputs": [
    {
     "name": "stdout",
     "output_type": "stream",
     "text": [
      "[7, 1, 7, 2, 7, 3, 7, 4, 7, 5]\n"
     ]
    }
   ],
   "source": [
    "def ins_ele(l,k):\n",
    "    ll = []\n",
    "    for a in l:\n",
    "        ll.append(k)\n",
    "        ll.append(a)\n",
    "    print(ll)\n",
    "ins_ele([1,2,3,4,5],7)\n"
   ]
  },
  {
   "cell_type": "markdown",
   "metadata": {},
   "source": [
    "### 17. Write a Python program to find all the values in a list are greater than a specified number."
   ]
  },
  {
   "cell_type": "code",
   "execution_count": 79,
   "metadata": {},
   "outputs": [
    {
     "name": "stdout",
     "output_type": "stream",
     "text": [
      "[34, 7, 8, 9]\n"
     ]
    }
   ],
   "source": [
    "def greater_list(l,k):\n",
    "    ll = []\n",
    "    for a in l: \n",
    "        if a > k:\n",
    "            ll.append(a)\n",
    "    print(ll)\n",
    "greater_list([1,2,34,5,6,7,8,9],6)"
   ]
  },
  {
   "cell_type": "markdown",
   "metadata": {},
   "source": [
    "### 18. Write a Python script to merge two Python dictionaries."
   ]
  },
  {
   "cell_type": "code",
   "execution_count": 80,
   "metadata": {},
   "outputs": [
    {
     "name": "stdout",
     "output_type": "stream",
     "text": [
      "{1: 2, 3: 4, 5: 6, 2: 3, 6: 7, 9: 8}\n"
     ]
    }
   ],
   "source": [
    "def update_dict(d1,d2):\n",
    "    d1.update(d2)\n",
    "    print(d1)\n",
    "d1 = {1:2,3:4,5:6}\n",
    "d2 = {2:3,6:7,9:8}\n",
    "update_dict(d1,d2)"
   ]
  },
  {
   "cell_type": "markdown",
   "metadata": {},
   "source": [
    "### 19.Write a Python program to sort a dictionary by key."
   ]
  },
  {
   "cell_type": "code",
   "execution_count": 81,
   "metadata": {},
   "outputs": [
    {
     "data": {
      "text/plain": [
       "[1, 3, 5]"
      ]
     },
     "execution_count": 81,
     "metadata": {},
     "output_type": "execute_result"
    }
   ],
   "source": [
    "d1 = {1:2,3:4,5:6}\n",
    "sorted(d1)"
   ]
  },
  {
   "cell_type": "markdown",
   "metadata": {},
   "source": [
    "### 20. Write a Python program to get the maximum and minimum value in a dictionary."
   ]
  },
  {
   "cell_type": "code",
   "execution_count": 89,
   "metadata": {
    "scrolled": true
   },
   "outputs": [
    {
     "name": "stdout",
     "output_type": "stream",
     "text": [
      "max =  5\n",
      "min =  1\n"
     ]
    }
   ],
   "source": [
    "d1 = {1:2,3:4,5:6}\n",
    "l = sorted(d1)\n",
    "print(\"max = \",l[len(l)-1])\n",
    "print(\"min = \",l[0])"
   ]
  },
  {
   "cell_type": "markdown",
   "metadata": {},
   "source": [
    "### 21. Write a Python program to sort a list alphabetically in a dictionary. "
   ]
  },
  {
   "cell_type": "code",
   "execution_count": 94,
   "metadata": {},
   "outputs": [
    {
     "name": "stdout",
     "output_type": "stream",
     "text": [
      "{'L1': [12, 34, 56, 87]}\n",
      "{'L2': [0, 10, 23, 30]}\n",
      "{'L3': [1, 2, 6, 9]}\n",
      "{'L4': [21, 34, 40, 67]}\n"
     ]
    }
   ],
   "source": [
    "dict ={ \n",
    "    \"L1\":[87, 34, 56, 12], \n",
    "    \"L2\":[23, 0, 30, 10], \n",
    "    \"L3\":[1, 6, 2, 9], \n",
    "    \"L4\":[40, 34, 21, 67] \n",
    "} \n",
    "  \n",
    "for i, j in dict.items(): \n",
    "    sorted_dict ={i:sorted(j)} \n",
    "    print(sorted_dict) \n",
    "    "
   ]
  },
  {
   "cell_type": "markdown",
   "metadata": {},
   "source": [
    "### 22 .  Write a Python function that takes two lists and returns True if they have at least one common member"
   ]
  },
  {
   "cell_type": "code",
   "execution_count": 101,
   "metadata": {},
   "outputs": [
    {
     "name": "stdout",
     "output_type": "stream",
     "text": [
      "True\n",
      "False\n"
     ]
    }
   ],
   "source": [
    "def common_list(l1,l2):\n",
    "    f = 0\n",
    "    for l in l1:\n",
    "        if l in l2:\n",
    "            f = 1\n",
    "    if (f==1):\n",
    "        return True\n",
    "    else:\n",
    "        return False\n",
    "x = common_list([1,2,3,4],[3,4,5,6])\n",
    "print(x)\n",
    "y = common_list([1,2,3],[4,5,6])\n",
    "print(y)"
   ]
  },
  {
   "cell_type": "markdown",
   "metadata": {},
   "source": [
    "### 23 . Write a python function to check whether the list is Ascending order or not"
   ]
  },
  {
   "cell_type": "code",
   "execution_count": 109,
   "metadata": {},
   "outputs": [
    {
     "name": "stdout",
     "output_type": "stream",
     "text": [
      "list is sorted in ascending order\n"
     ]
    }
   ],
   "source": [
    " def is_ascending(l):\n",
    "        a = sorted(l)\n",
    "        if(a==l):\n",
    "            print(\"list is sorted in ascending order\")\n",
    "is_ascending([1,2,3,4,5])"
   ]
  },
  {
   "cell_type": "markdown",
   "metadata": {},
   "source": [
    "### 24. Same as 12"
   ]
  },
  {
   "cell_type": "markdown",
   "metadata": {},
   "source": [
    "### 25.Same as 13"
   ]
  },
  {
   "cell_type": "markdown",
   "metadata": {},
   "source": [
    "### 26. Write a program to count frequency of each character in an input string, using dictionary. "
   ]
  },
  {
   "cell_type": "code",
   "execution_count": 113,
   "metadata": {},
   "outputs": [
    {
     "name": "stdout",
     "output_type": "stream",
     "text": [
      "{'P': 2, 'y': 2, 't': 1, 'h': 2, 'o': 2, 'n': 2, 'T': 1}\n"
     ]
    }
   ],
   "source": [
    "def freq_of_char(str1):\n",
    "    d = {}\n",
    "    l = list(str1)\n",
    "    for i in l:\n",
    "        if i in d:\n",
    "            d[i] = d[i]+1\n",
    "        else:\n",
    "            d[i] = 1 \n",
    "    print(d)\n",
    "freq_of_char(\"PythonPyThon\")"
   ]
  },
  {
   "cell_type": "markdown",
   "metadata": {},
   "source": [
    "### 27. Write a program to extract only email-ID’s in a textfile. Use suitable regular expression."
   ]
  },
  {
   "cell_type": "code",
   "execution_count": 120,
   "metadata": {},
   "outputs": [
    {
     "name": "stdout",
     "output_type": "stream",
     "text": [
      "Enter the filename: mail.txt\n",
      "['rachithabayar@gmail.com']\n",
      "['akki@gmail.com']\n"
     ]
    }
   ],
   "source": [
    "def is_empty(l):\n",
    "    if len(l) == 0:\n",
    "        return False\n",
    "    else:\n",
    "        return True\n",
    "l = []\n",
    "is_empty(l)\n",
    "\n",
    "import re\n",
    "fn=input(\"Enter the filename: \")\n",
    "fh=open(fn,\"r\")\n",
    "lst=list()\n",
    "for line in fh:\n",
    "    line=line.rstrip()\n",
    "    mail=re.findall('[a-zA-Z]\\S*@[a-zA-Z]\\S*[a-zA-Z]',line)\n",
    "    if(is_empty(mail)):\n",
    "        lst.append(mail)\n",
    "for i in lst:\n",
    "    print(i)"
   ]
  },
  {
   "cell_type": "markdown",
   "metadata": {},
   "source": [
    "### 28. Write a program to validate a mobile number in India in the form of+91 99999 99999.(Note the white spaces after +91 and after first 5 digits)"
   ]
  },
  {
   "cell_type": "code",
   "execution_count": 156,
   "metadata": {},
   "outputs": [
    {
     "data": {
      "text/plain": [
       "['91 12355 99999']"
      ]
     },
     "execution_count": 156,
     "metadata": {},
     "output_type": "execute_result"
    }
   ],
   "source": [
    "str = \"91 12355 99999\"\n",
    "re.findall('91\\s[0-9]{5}\\s[0-9]{5}',str)"
   ]
  },
  {
   "cell_type": "markdown",
   "metadata": {},
   "source": [
    "### 29. Python program that matches a string that has an 'a' followed by anything, ending in 'b"
   ]
  },
  {
   "cell_type": "code",
   "execution_count": 157,
   "metadata": {},
   "outputs": [
    {
     "data": {
      "text/plain": [
       "['ajsjhgfhsfgb']"
      ]
     },
     "execution_count": 157,
     "metadata": {},
     "output_type": "execute_result"
    }
   ],
   "source": [
    "str = \"ajsjhgfhsfgb\"\n",
    "re.findall(\"\\S*a\\S*b$\",str)"
   ]
  },
  {
   "cell_type": "markdown",
   "metadata": {},
   "source": [
    "### 30 .Write a program to validate USN (both UG and PG) of VTU students.(Hint:UG USN format:1RN15EC001,PG USN format:1RN15MCA01)"
   ]
  },
  {
   "cell_type": "code",
   "execution_count": 159,
   "metadata": {},
   "outputs": [
    {
     "data": {
      "text/plain": [
       "[]"
      ]
     },
     "execution_count": 159,
     "metadata": {},
     "output_type": "execute_result"
    }
   ],
   "source": [
    "str = \"1RN15EC001\"\n",
    "re.findall(\"[0-9]\\S[A-Za-z]{2}\\S[1-9]{2}\\S[A-Z]{2}\\S[0-9]{3}\",str)"
   ]
  },
  {
   "cell_type": "code",
   "execution_count": null,
   "metadata": {},
   "outputs": [],
   "source": []
  }
 ],
 "metadata": {
  "kernelspec": {
   "display_name": "Python 3",
   "language": "python",
   "name": "python3"
  },
  "language_info": {
   "codemirror_mode": {
    "name": "ipython",
    "version": 3
   },
   "file_extension": ".py",
   "mimetype": "text/x-python",
   "name": "python",
   "nbconvert_exporter": "python",
   "pygments_lexer": "ipython3",
   "version": "3.6.7"
  }
 },
 "nbformat": 4,
 "nbformat_minor": 2
}
