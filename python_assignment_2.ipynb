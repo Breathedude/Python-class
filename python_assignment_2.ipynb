{
 "cells": [
  {
   "cell_type": "markdown",
   "metadata": {},
   "source": [
    "### 1. Write Python Program to find the largest number in a list"
   ]
  },
  {
   "cell_type": "code",
   "execution_count": 5,
   "metadata": {},
   "outputs": [
    {
     "name": "stdout",
     "output_type": "stream",
     "text": [
      "77\n"
     ]
    }
   ],
   "source": [
    "l = [2,4,5,8,9,11,23,43,56,2,1,77,23]\n",
    "l = sorted(l)\n",
    "print(l[len(l)-1])\n"
   ]
  },
  {
   "cell_type": "markdown",
   "metadata": {},
   "source": [
    "### 2. Python Program to Compute a Polynomial Equation given that the Coefficients of the Polynomial are stored in a List."
   ]
  },
  {
   "cell_type": "code",
   "execution_count": 6,
   "metadata": {},
   "outputs": [
    {
     "name": "stdout",
     "output_type": "stream",
     "text": [
      "Enter a value for a0:1\n",
      "Enter a value for a1:2\n",
      "Enter a value for a2:3\n",
      "Enter a value for a3:4\n",
      "Enter a value for a4:5\n",
      "Enter the value for x:1\n",
      "The value of polynomial at x = 1 is 15\n"
     ]
    }
   ],
   "source": [
    "def horner(poly, n, x):\n",
    "    result = poly[0]\n",
    "    for i in range(1, n):\n",
    "        result = result * x + poly[i]\n",
    "    print(\"The value of polynomial at x = \" + str(x) + \" is \" + str(result))\n",
    "\n",
    "\n",
    "a0 = int(input(\"Enter a value for a0:\"))\n",
    "a1 = int(input(\"Enter a value for a1:\"))\n",
    "a2 = int(input(\"Enter a value for a2:\"))\n",
    "a3 = int(input(\"Enter a value for a3:\"))\n",
    "a4 = int(input(\"Enter a value for a4:\"))\n",
    "\n",
    "poly = [a0, a1, a2, a3, a4]\n",
    "x = int(input(\"Enter the value for x:\"))\n",
    "n = len(poly)\n",
    "horner(poly, n, x)"
   ]
  },
  {
   "cell_type": "markdown",
   "metadata": {},
   "source": [
    "### 3. Python Program to Count the Frequency of Words Appearing in a String Using a Dictionary"
   ]
  },
  {
   "cell_type": "code",
   "execution_count": 9,
   "metadata": {},
   "outputs": [
    {
     "name": "stdout",
     "output_type": "stream",
     "text": [
      "Enter a stringapple and apple is an apple\n",
      "apple  appears  3  times \n",
      "and  appears  1  times \n",
      "is  appears  1  times \n",
      "an  appears  1  times \n"
     ]
    }
   ],
   "source": [
    "str1 = input(\"Enter a string\")\n",
    "d = dict()\n",
    "str1 = str1.split()\n",
    "str1\n",
    "for i in str1:\n",
    "    if i in d:\n",
    "        d[i] = d[i]+1\n",
    "    else:\n",
    "        d[i] = 1 \n",
    "for x,y in d.items():\n",
    "    print(x,\" appears \",y,\" times \")"
   ]
  },
  {
   "cell_type": "markdown",
   "metadata": {},
   "source": [
    "### 4. Python Program to Find the Sum of Elements in a List Recursively"
   ]
  },
  {
   "cell_type": "code",
   "execution_count": 10,
   "metadata": {},
   "outputs": [
    {
     "name": "stdout",
     "output_type": "stream",
     "text": [
      "Enter the number of elements for list:3\n",
      "Enter element:1\n",
      "Enter element:2\n",
      "Enter element:3\n",
      "The list is:\n",
      "[1, 2, 3]\n",
      "Sum of items in list:\n",
      "6\n"
     ]
    }
   ],
   "source": [
    "def sum_arr(arr,size):\n",
    "   if (size == 0):\n",
    "     return 0\n",
    "   else:\n",
    "     return arr[size-1] + sum_arr(arr,size-1)\n",
    "\n",
    "n=int(input(\"Enter the number of elements for list:\"))\n",
    "a=[]\n",
    "for i in range(0,n):\n",
    "    element=int(input(\"Enter element:\"))\n",
    "    a.append(element)\n",
    "print(\"The list is:\")\n",
    "print(a)\n",
    "print(\"Sum of items in list:\")\n",
    "b=sum_arr(a,n)\n",
    "print(b)\n"
   ]
  },
  {
   "cell_type": "markdown",
   "metadata": {},
   "source": [
    "### 5. Python Program to Find the Intersection of Two Lists"
   ]
  },
  {
   "cell_type": "code",
   "execution_count": 15,
   "metadata": {},
   "outputs": [
    {
     "name": "stdout",
     "output_type": "stream",
     "text": [
      "Enter the number of elements for list 1 : 2\n",
      "Enter element:1\n",
      "Enter element:2\n",
      "The list is:\n",
      "[1, 2]\n",
      "Enter the number of elements for list 2 :2\n",
      "Enter element:1\n",
      "Enter element:2\n",
      "The list is:\n",
      "[1, 2]\n",
      "Intersection of lists =  [1, 2]\n"
     ]
    }
   ],
   "source": [
    "def intersection(lst1, lst2):\n",
    "    lst3 = []\n",
    "    #lst3 = [value for value in lst1 if value in lst2] \n",
    "    for l in lst1:\n",
    "        if l in lst2:\n",
    "            lst3.append(l)\n",
    "    return lst3 \n",
    "n=int(input(\"Enter the number of elements for list 1 : \"))\n",
    "a=[]\n",
    "for i in range(0,n):\n",
    "    element=int(input(\"Enter element:\"))\n",
    "    a.append(element)\n",
    "print(\"The list is:\")\n",
    "print(a)\n",
    "n=int(input(\"Enter the number of elements for list 2 :\"))\n",
    "b=[]\n",
    "for i in range(0,n):\n",
    "    element=int(input(\"Enter element:\"))\n",
    "    b.append(element)\n",
    "print(\"The list is:\")\n",
    "print(b)\n",
    "print(\"Intersection of lists = \",intersection(a,b))"
   ]
  },
  {
   "cell_type": "markdown",
   "metadata": {},
   "source": [
    "### 6. Write Python Program to put the even and odd elements in list into two different lists"
   ]
  },
  {
   "cell_type": "code",
   "execution_count": 18,
   "metadata": {},
   "outputs": [
    {
     "name": "stdout",
     "output_type": "stream",
     "text": [
      "Enter the number of elements for list 1 : 3\n",
      "Enter element:1\n",
      "Enter element:2\n",
      "Enter element:3\n",
      "The list is:\n",
      "[1, 2, 3]\n",
      "Even list :  [2]\n",
      "Odd list :  [1, 3]\n"
     ]
    }
   ],
   "source": [
    "def even_and_odd(a):\n",
    "    le = []\n",
    "    lo = []\n",
    "    for l in a:\n",
    "        if l%2 == 0:\n",
    "            le.append(l)\n",
    "        else:\n",
    "            lo.append(l)\n",
    "    print(\"Even list : \",le)\n",
    "    print(\"Odd list : \",lo)\n",
    "    \n",
    "n=int(input(\"Enter the number of elements for list 1 : \"))\n",
    "a=[]\n",
    "for i in range(0,n):\n",
    "    element=int(input(\"Enter element:\"))\n",
    "    a.append(element)\n",
    "print(\"The list is:\")\n",
    "print(a)\n",
    "even_and_odd(a)"
   ]
  },
  {
   "cell_type": "markdown",
   "metadata": {},
   "source": [
    "### 7. Write Python Program to merge two lists and sort it."
   ]
  },
  {
   "cell_type": "code",
   "execution_count": 19,
   "metadata": {},
   "outputs": [
    {
     "name": "stdout",
     "output_type": "stream",
     "text": [
      "Enter the number of elements for list 1 : 3\n",
      "Enter element:1\n",
      "Enter element:2\n",
      "Enter element:3\n",
      "The list is:\n",
      "[1, 2, 3]\n",
      "Enter the number of elements for list 2 :3\n",
      "Enter element:6\n",
      "Enter element:5\n",
      "Enter element:4\n",
      "The list is:\n",
      "[6, 5, 4]\n",
      "Sorted list :  [1, 2, 3, 4, 5, 6]\n"
     ]
    }
   ],
   "source": [
    "def merge_and_sort(l1,l2):\n",
    "    for l in l1:\n",
    "        l2.append(l)\n",
    "    l2 = sorted(l2)\n",
    "    print(\"Sorted list : \",l2)\n",
    "\n",
    "n=int(input(\"Enter the number of elements for list 1 : \"))\n",
    "a=[]\n",
    "for i in range(0,n):\n",
    "    element=int(input(\"Enter element:\"))\n",
    "    a.append(element)\n",
    "print(\"The list is:\")\n",
    "print(a)\n",
    "n=int(input(\"Enter the number of elements for list 2 :\"))\n",
    "b=[]\n",
    "for i in range(0,n):\n",
    "    element=int(input(\"Enter element:\"))\n",
    "    b.append(element)\n",
    "print(\"The list is:\")\n",
    "print(b)\n",
    "merge_and_sort(a,b)"
   ]
  },
  {
   "cell_type": "markdown",
   "metadata": {},
   "source": [
    "### 8. Python Program to swap the first and last value of a list"
   ]
  },
  {
   "cell_type": "code",
   "execution_count": 21,
   "metadata": {},
   "outputs": [
    {
     "name": "stdout",
     "output_type": "stream",
     "text": [
      "Enter the number of elements for list : 3\n",
      "Enter element:1\n",
      "Enter element:2\n",
      "Enter element:3\n",
      "The list is:\n",
      "[1, 2, 3]\n",
      "[3, 2, 1]\n"
     ]
    }
   ],
   "source": [
    "def swap(a):\n",
    "    a[0],a[len(a)-1] = a[len(a)-1],a[0]\n",
    "    print(a)\n",
    "\n",
    "n=int(input(\"Enter the number of elements for list : \"))\n",
    "a=[]\n",
    "for i in range(0,n):\n",
    "    element=int(input(\"Enter element:\"))\n",
    "    a.append(element)\n",
    "print(\"The list is:\")\n",
    "print(a)\n",
    "swap(a)"
   ]
  },
  {
   "cell_type": "markdown",
   "metadata": {},
   "source": [
    "### 9. Python Program to remove the nth index character from a non-empty string."
   ]
  },
  {
   "cell_type": "code",
   "execution_count": 34,
   "metadata": {},
   "outputs": [
    {
     "name": "stdout",
     "output_type": "stream",
     "text": [
      "Enter the string : Python\n",
      "Enter the index : 3\n",
      "Pyton\n"
     ]
    }
   ],
   "source": [
    "def del_nth_index(str1,n):\n",
    "    l = list(str1)\n",
    "    del l[n]\n",
    "    s = ''.join(l)\n",
    "    print(s)\n",
    "    \n",
    "str1 = input(\"Enter the string : \")\n",
    "n = int(input(\"Enter the index : \"))\n",
    "del_nth_index(str1,n)"
   ]
  },
  {
   "cell_type": "markdown",
   "metadata": {},
   "source": [
    "### 10. Python Program to remove the characters of odd index values in a string."
   ]
  },
  {
   "cell_type": "code",
   "execution_count": 42,
   "metadata": {},
   "outputs": [
    {
     "name": "stdout",
     "output_type": "stream",
     "text": [
      "Enter a string : asdfgh\n",
      "['a', 'd', 'g']\n",
      "adg\n"
     ]
    }
   ],
   "source": [
    "def remove_odd(a):\n",
    "    ls = list(a)\n",
    "    le = []\n",
    "    for l in range(0,len(ls)):\n",
    "        if l%2 == 0:\n",
    "            le.append(ls[l])\n",
    "    print(le)\n",
    "    s = ''.join(le)\n",
    "    print(s)\n",
    "\n",
    "a = input(\"Enter a string : \")\n",
    "remove_odd(a)"
   ]
  },
  {
   "cell_type": "markdown",
   "metadata": {},
   "source": [
    "### 11. Write a Python program to multiplies all the items in a list"
   ]
  },
  {
   "cell_type": "code",
   "execution_count": 10,
   "metadata": {},
   "outputs": [
    {
     "name": "stdout",
     "output_type": "stream",
     "text": [
      "Enter the number of elements for list:3\n",
      "Enter elements for list:\n",
      "1\n",
      "2\n",
      "3\n",
      "Product :  6\n"
     ]
    }
   ],
   "source": [
    "list1 = []\n",
    "product = 1\n",
    "n = int(input(\"Enter the number of elements for list:\"))\n",
    "print(\"Enter elements for list:\")\n",
    "for i in range(0, n):\n",
    "    ele = int(input())\n",
    "    list1.append(ele)\n",
    "for i in range(0, n):\n",
    "    product = product * list1[i]\n",
    "print(\"Product : \", product)"
   ]
  },
  {
   "cell_type": "markdown",
   "metadata": {},
   "source": [
    "### 12. Write a Python program to remove duplicates from a list."
   ]
  },
  {
   "cell_type": "code",
   "execution_count": 46,
   "metadata": {},
   "outputs": [
    {
     "name": "stdout",
     "output_type": "stream",
     "text": [
      "Enter the number of elements for list:3\n",
      "Enter element:1\n",
      "Enter element:1\n",
      "Enter element:2\n",
      "The list is:\n",
      "[1, 1, 2]\n",
      "[1, 2]\n"
     ]
    }
   ],
   "source": [
    "def rem_dup(l):\n",
    "    l = list(dict.fromkeys(l))\n",
    "    print(l)\n",
    "n=int(input(\"Enter the number of elements for list:\"))\n",
    "a=[]\n",
    "for i in range(0,n):\n",
    "    element=int(input(\"Enter element:\"))\n",
    "    a.append(element)\n",
    "print(\"The list is:\")\n",
    "print(a)\n",
    "rem_dup(a)"
   ]
  },
  {
   "cell_type": "markdown",
   "metadata": {},
   "source": [
    "### 13. Write a Python program to check a list is empty or not"
   ]
  },
  {
   "cell_type": "code",
   "execution_count": 70,
   "metadata": {},
   "outputs": [
    {
     "name": "stdout",
     "output_type": "stream",
     "text": [
      "List is empty\n"
     ]
    }
   ],
   "source": [
    "def is_empty(l):\n",
    "    if len(l) == 0:\n",
    "        print(\"List is empty\")\n",
    "l = []\n",
    "is_empty(l)"
   ]
  },
  {
   "cell_type": "markdown",
   "metadata": {},
   "source": [
    "### 14. Write a Python function that takes two lists and returns True if they have at least one common member."
   ]
  },
  {
   "cell_type": "code",
   "execution_count": 71,
   "metadata": {},
   "outputs": [
    {
     "name": "stdout",
     "output_type": "stream",
     "text": [
      "Enter the number of elements for list 1 : 3\n",
      "Enter element:1\n",
      "Enter element:2\n",
      "Enter element:3\n",
      "The list is:\n",
      "[1, 2, 3]\n",
      "Enter the number of elements for list 2 :3\n",
      "Enter element:2\n",
      "Enter element:1\n",
      "Enter element:2\n",
      "The list is:\n",
      "[2, 1, 2]\n",
      "True\n"
     ]
    }
   ],
   "source": [
    "def intersection(lst1, lst2): \n",
    "    for l in lst1:\n",
    "        if l in lst2:\n",
    "            return True\n",
    "        else:\n",
    "            return False\n",
    "n=int(input(\"Enter the number of elements for list 1 : \"))\n",
    "a=[]\n",
    "for i in range(0,n):\n",
    "    element=int(input(\"Enter element:\"))\n",
    "    a.append(element)\n",
    "print(\"The list is:\")\n",
    "print(a)\n",
    "n=int(input(\"Enter the number of elements for list 2 :\"))\n",
    "b=[]\n",
    "for i in range(0,n):\n",
    "    element=int(input(\"Enter element:\"))\n",
    "    b.append(element)\n",
    "print(\"The list is:\")\n",
    "print(b)\n",
    "x = intersection(a,b)\n",
    "print(x)"
   ]
  },
  {
   "cell_type": "markdown",
   "metadata": {},
   "source": [
    "### 15.  Write a Python program to count the number of elements in a list within a specified range."
   ]
  },
  {
   "cell_type": "code",
   "execution_count": 72,
   "metadata": {},
   "outputs": [
    {
     "name": "stdout",
     "output_type": "stream",
     "text": [
      "6\n"
     ]
    }
   ],
   "source": [
    "def count_elements(l,a,b):\n",
    "    count = 0\n",
    "    for x in l:\n",
    "        if(x >= a and x <= b):\n",
    "            count+=1\n",
    "    print(count)\n",
    "l = [1,2,34,5,37,8,55,67,9,8]\n",
    "a = 1\n",
    "b = 10\n",
    "count_elements(l,a,b)"
   ]
  },
  {
   "cell_type": "markdown",
   "metadata": {},
   "source": [
    "### 16. Write a Python program to insert an element before each element of a list.\n"
   ]
  },
  {
   "cell_type": "code",
   "execution_count": 78,
   "metadata": {},
   "outputs": [
    {
     "name": "stdout",
     "output_type": "stream",
     "text": [
      "[7, 1, 7, 2, 7, 3, 7, 4, 7, 5]\n"
     ]
    }
   ],
   "source": [
    "def ins_ele(l,k):\n",
    "    ll = []\n",
    "    for a in l:\n",
    "        ll.append(k)\n",
    "        ll.append(a)\n",
    "    print(ll)\n",
    "ins_ele([1,2,3,4,5],7)\n"
   ]
  },
  {
   "cell_type": "markdown",
   "metadata": {},
   "source": [
    "### 17. Write a Python program to find all the values in a list are greater than a specified number."
   ]
  },
  {
   "cell_type": "code",
   "execution_count": 79,
   "metadata": {},
   "outputs": [
    {
     "name": "stdout",
     "output_type": "stream",
     "text": [
      "[34, 7, 8, 9]\n"
     ]
    }
   ],
   "source": [
    "def greater_list(l,k):\n",
    "    ll = []\n",
    "    for a in l: \n",
    "        if a > k:\n",
    "            ll.append(a)\n",
    "    print(ll)\n",
    "greater_list([1,2,34,5,6,7,8,9],6)"
   ]
  },
  {
   "cell_type": "markdown",
   "metadata": {},
   "source": [
    "### 18. Write a Python script to merge two Python dictionaries."
   ]
  },
  {
   "cell_type": "code",
   "execution_count": 80,
   "metadata": {},
   "outputs": [
    {
     "name": "stdout",
     "output_type": "stream",
     "text": [
      "{1: 2, 3: 4, 5: 6, 2: 3, 6: 7, 9: 8}\n"
     ]
    }
   ],
   "source": [
    "def update_dict(d1,d2):\n",
    "    d1.update(d2)\n",
    "    print(d1)\n",
    "d1 = {1:2,3:4,5:6}\n",
    "d2 = {2:3,6:7,9:8}\n",
    "update_dict(d1,d2)"
   ]
  },
  {
   "cell_type": "markdown",
   "metadata": {},
   "source": [
    "### 19.Write a Python program to sort a dictionary by key."
   ]
  },
  {
   "cell_type": "code",
   "execution_count": 81,
   "metadata": {},
   "outputs": [
    {
     "data": {
      "text/plain": [
       "[1, 3, 5]"
      ]
     },
     "execution_count": 81,
     "metadata": {},
     "output_type": "execute_result"
    }
   ],
   "source": [
    "d1 = {1:2,3:4,5:6}\n",
    "sorted(d1)"
   ]
  },
  {
   "cell_type": "markdown",
   "metadata": {},
   "source": [
    "### 20. Write a Python program to get the maximum and minimum value in a dictionary."
   ]
  },
  {
   "cell_type": "code",
   "execution_count": 89,
   "metadata": {
    "scrolled": true
   },
   "outputs": [
    {
     "name": "stdout",
     "output_type": "stream",
     "text": [
      "max =  5\n",
      "min =  1\n"
     ]
    }
   ],
   "source": [
    "d1 = {1:2,3:4,5:6}\n",
    "l = sorted(d1)\n",
    "print(\"max = \",l[len(l)-1])\n",
    "print(\"min = \",l[0])"
   ]
  },
  {
   "cell_type": "markdown",
   "metadata": {},
   "source": [
    "### 21. Write a Python program to sort a list alphabetically in a dictionary. "
   ]
  },
  {
   "cell_type": "code",
   "execution_count": 94,
   "metadata": {},
   "outputs": [
    {
     "name": "stdout",
     "output_type": "stream",
     "text": [
      "{'L1': [12, 34, 56, 87]}\n",
      "{'L2': [0, 10, 23, 30]}\n",
      "{'L3': [1, 2, 6, 9]}\n",
      "{'L4': [21, 34, 40, 67]}\n"
     ]
    }
   ],
   "source": [
    "dict ={ \n",
    "    \"L1\":[87, 34, 56, 12], \n",
    "    \"L2\":[23, 0, 30, 10], \n",
    "    \"L3\":[1, 6, 2, 9], \n",
    "    \"L4\":[40, 34, 21, 67] \n",
    "} \n",
    "  \n",
    "for i, j in dict.items(): \n",
    "    sorted_dict ={i:sorted(j)} \n",
    "    print(sorted_dict) \n",
    "    "
   ]
  },
  {
   "cell_type": "markdown",
   "metadata": {},
   "source": [
    "### 22 .  Write a Python function that takes two lists and returns True if they have at least one common member"
   ]
  },
  {
   "cell_type": "code",
   "execution_count": 101,
   "metadata": {},
   "outputs": [
    {
     "name": "stdout",
     "output_type": "stream",
     "text": [
      "True\n",
      "False\n"
     ]
    }
   ],
   "source": [
    "def common_list(l1,l2):\n",
    "    f = 0\n",
    "    for l in l1:\n",
    "        if l in l2:\n",
    "            f = 1\n",
    "    if (f==1):\n",
    "        return True\n",
    "    else:\n",
    "        return False\n",
    "x = common_list([1,2,3,4],[3,4,5,6])\n",
    "print(x)\n",
    "y = common_list([1,2,3],[4,5,6])\n",
    "print(y)"
   ]
  },
  {
   "cell_type": "markdown",
   "metadata": {},
   "source": [
    "### 23 . Write a python function to check whether the list is Ascending order or not"
   ]
  },
  {
   "cell_type": "code",
   "execution_count": 109,
   "metadata": {},
   "outputs": [
    {
     "name": "stdout",
     "output_type": "stream",
     "text": [
      "list is sorted in ascending order\n"
     ]
    }
   ],
   "source": [
    " def is_ascending(l):\n",
    "        a = sorted(l)\n",
    "        if(a==l):\n",
    "            print(\"list is sorted in ascending order\")\n",
    "is_ascending([1,2,3,4,5])"
   ]
  },
  {
   "cell_type": "markdown",
   "metadata": {},
   "source": [
    "### 24. Same as 12"
   ]
  },
  {
   "cell_type": "markdown",
   "metadata": {},
   "source": [
    "### 25.Same as 13"
   ]
  },
  {
   "cell_type": "markdown",
   "metadata": {},
   "source": [
    "### 26. Write a program to count frequency of each character in an input string, using dictionary. "
   ]
  },
  {
   "cell_type": "code",
   "execution_count": 113,
   "metadata": {},
   "outputs": [
    {
     "name": "stdout",
     "output_type": "stream",
     "text": [
      "{'P': 2, 'y': 2, 't': 1, 'h': 2, 'o': 2, 'n': 2, 'T': 1}\n"
     ]
    }
   ],
   "source": [
    "def freq_of_char(str1):\n",
    "    d = {}\n",
    "    l = list(str1)\n",
    "    for i in l:\n",
    "        if i in d:\n",
    "            d[i] = d[i]+1\n",
    "        else:\n",
    "            d[i] = 1 \n",
    "    print(d)\n",
    "freq_of_char(\"PythonPyThon\")"
   ]
  },
  {
   "cell_type": "markdown",
   "metadata": {},
   "source": [
    "### 27. Write a program to extract only email-ID’s in a textfile. Use suitable regular expression."
   ]
  },
  {
   "cell_type": "code",
   "execution_count": 120,
   "metadata": {},
   "outputs": [
    {
     "name": "stdout",
     "output_type": "stream",
     "text": [
      "Enter the filename: mail.txt\n",
      "['rachithabayar@gmail.com']\n",
      "['akki@gmail.com']\n"
     ]
    }
   ],
   "source": [
    "def is_empty(l):\n",
    "    if len(l) == 0:\n",
    "        return False\n",
    "    else:\n",
    "        return True\n",
    "l = []\n",
    "is_empty(l)\n",
    "\n",
    "import re\n",
    "fn=input(\"Enter the filename: \")\n",
    "fh=open(fn,\"r\")\n",
    "lst=list()\n",
    "for line in fh:\n",
    "    line=line.rstrip()\n",
    "    mail=re.findall('[a-zA-Z]\\S*@[a-zA-Z]\\S*[a-zA-Z]',line)\n",
    "    if(is_empty(mail)):\n",
    "        lst.append(mail)\n",
    "for i in lst:\n",
    "    print(i)"
   ]
  },
  {
   "cell_type": "markdown",
   "metadata": {},
   "source": [
    "### 28. Write a program to validate a mobile number in India in the form of+91 99999 99999.(Note the white spaces after +91 and after first 5 digits)"
   ]
  },
  {
   "cell_type": "code",
   "execution_count": 156,
   "metadata": {},
   "outputs": [
    {
     "data": {
      "text/plain": [
       "['91 12355 99999']"
      ]
     },
     "execution_count": 156,
     "metadata": {},
     "output_type": "execute_result"
    }
   ],
   "source": [
    "str = \"91 12355 99999\"\n",
    "re.findall('91\\s[0-9]{5}\\s[0-9]{5}',str)"
   ]
  },
  {
   "cell_type": "markdown",
   "metadata": {},
   "source": [
    "### 29. Python program that matches a string that has an 'a' followed by anything, ending in 'b"
   ]
  },
  {
   "cell_type": "code",
   "execution_count": 157,
   "metadata": {},
   "outputs": [
    {
     "data": {
      "text/plain": [
       "['ajsjhgfhsfgb']"
      ]
     },
     "execution_count": 157,
     "metadata": {},
     "output_type": "execute_result"
    }
   ],
   "source": [
    "str = \"ajsjhgfhsfgb\"\n",
    "re.findall(\"\\S*a\\S*b$\",str)"
   ]
  },
  {
   "cell_type": "markdown",
   "metadata": {},
   "source": [
    "### 30 .Write a program to validate USN (both UG and PG) of VTU students.(Hint:UG USN format:1RN15EC001,PG USN format:1RN15MCA01)"
   ]
  },
  {
   "cell_type": "code",
   "execution_count": 1,
   "metadata": {},
   "outputs": [
    {
     "name": "stdout",
     "output_type": "stream",
     "text": [
      "Enter USN:4sf16is025\n"
     ]
    }
   ],
   "source": [
    "\n",
    "\n",
    "import re\n",
    "usn = input(\"Enter USN:\")\n",
    "if (re.search('[0-9][A-Z]{2}1[0-9][A-Z]{2}[0-9]{3}', usn)):\n",
    "    print(\"UG USN\")\n",
    "elif (re.search('[0-9][A-Z]{2}1[0-9][A-Z]{3}[0-9]{2}', usn)):\n",
    "    print(\"PG USN\")\n",
    "\n"
   ]
  },
  {
   "cell_type": "markdown",
   "metadata": {},
   "source": [
    "### 31. Analyze the time taken to sort the list of n numbers using selection sort, bubble sort, quick sort and merge sort. Compare the time complexity and plot a graph to illustrate the same."
   ]
  },
  {
   "cell_type": "code",
   "execution_count": 42,
   "metadata": {},
   "outputs": [
    {
     "data": {
      "image/png": "[encoded data removed]",
      "text/plain": [
       "<Figure size 640x480 with 1 Axes>"
      ]
     },
     "metadata": {},
     "output_type": "display_data"
    }
   ],
   "source": [
    "import matplotlib.pyplot as plt; plt.rcdefaults()\n",
    "import numpy as np\n",
    "import matplotlib.pyplot as plt\n",
    "\n",
    "import time\n",
    "def selectionsort(arr):\n",
    "    for i in range(len(arr)): \n",
    "        min_idx = i \n",
    "        for j in range(i+1, len(arr)): \n",
    "            if arr[min_idx] > arr[j]: \n",
    "                min_idx = j       \n",
    "        arr[i], arr[min_idx] = arr[min_idx], arr[i] \n",
    "\n",
    "\n",
    "\n",
    "\n",
    "def bubbleSort(arr): \n",
    "    c = 0\n",
    "    n = len(arr) \n",
    "    for i in range(n): \n",
    "        #c+=1\n",
    "        for j in range(0, n-i-1): \n",
    "            #c+=1\n",
    "            if arr[j] > arr[j+1] : \n",
    "                arr[j], arr[j+1] = arr[j+1], arr[j] \n",
    "                \n",
    "\n",
    "def partition(arr,low,high): \n",
    "    i = ( low-1 )        \n",
    "    pivot = arr[high]   \n",
    "    for j in range(low , high): \n",
    "        if   arr[j] <= pivot: \n",
    "            i = i+1 \n",
    "            arr[i],arr[j] = arr[j],arr[i] \n",
    "    arr[i+1],arr[high] = arr[high],arr[i+1] \n",
    "    return ( i+1 ) \n",
    "  \n",
    "def quickSort(arr,low,high): \n",
    "    if low < high: \n",
    "        pi = partition(arr,low,high) \n",
    "        quickSort(arr, low, pi-1) \n",
    "        quickSort(arr, pi+1, high) \n",
    "        \n",
    "        \n",
    "def mergeSort(arr): \n",
    "    if len(arr) >1: \n",
    "        mid = len(arr)//2 \n",
    "        L = arr[:mid] \n",
    "        R = arr[mid:]\n",
    "        mergeSort(L) \n",
    "        mergeSort(R)\n",
    "        i = j = k = 0\n",
    "        while i < len(L) and j < len(R): \n",
    "            if L[i] < R[j]: \n",
    "                arr[k] = L[i] \n",
    "                i+=1\n",
    "            else: \n",
    "                arr[k] = R[j] \n",
    "                j+=1\n",
    "            k+=1\n",
    "        while i < len(L): \n",
    "            arr[k] = L[i] \n",
    "            i+=1\n",
    "            k+=1 \n",
    "        while j < len(R): \n",
    "            arr[k] = R[j] \n",
    "            j+=1\n",
    "            k+=1\n",
    "  \n",
    "# Driver code to test above \n",
    "arr = [64, 34, 25, 12, 22, 11, 90] \n",
    "n = 7\n",
    "t0 = time.time()\n",
    "bubbleSort(arr) \n",
    "t1 = time.time()\n",
    "tbubble = t1-t0\n",
    "t0 = time.time()\n",
    "selectionsort(arr)\n",
    "t1 = time.time()\n",
    "tselection = t1-t0\n",
    "t0 = time.time()\n",
    "quickSort(arr,0,n-1)\n",
    "t1 = time.time()\n",
    "tquick = t1-t0\n",
    "t0 = time.time()\n",
    "mergeSort(arr)\n",
    "t1 = time.time()\n",
    "tmerge= t1-t0\n",
    "\n",
    "objects = ('Bubble Sort', 'Selection Sort', 'Quick Sort', 'Merge Sort')\n",
    "y_pos = np.arange(len(objects))\n",
    "performance = [tbubble,tselection,tquick,tmerge]\n",
    "\n",
    "plt.bar(y_pos, performance, align='center', alpha=0.5)\n",
    "plt.xticks(y_pos, objects)\n",
    "plt.ylabel('Time')\n",
    "plt.title('Algorithm')\n",
    "\n",
    "plt.show()"
   ]
  },
  {
   "cell_type": "markdown",
   "metadata": {},
   "source": [
    "### 32. Analyze the time taken to search a particular element from the list of n numbers using linear search and binary search. Compare the time complexity and plot a graph to illustrate the same."
   ]
  },
  {
   "cell_type": "code",
   "execution_count": 27,
   "metadata": {},
   "outputs": [
    {
     "name": "stdout",
     "output_type": "stream",
     "text": [
      "Element is present at index 3\n"
     ]
    }
   ],
   "source": [
    "def linearsearch(arr, n, x): \n",
    "  \n",
    "    for i in range (0, n): \n",
    "        if (arr[i] == x): \n",
    "            return i; \n",
    "    return -1; \n",
    "\n",
    "\n",
    "def binarySearch (arr, l, r, x):  \n",
    "    if r >= l: \n",
    "        mid = int(l + (r - l)/2)\n",
    "        if arr[mid] == x: \n",
    "            return mid \n",
    "        elif arr[mid] > x: \n",
    "            return binarySearch(arr, l, mid-1, x) \n",
    "        else: \n",
    "            return binarySearch(arr, mid + 1, r, x) \n",
    "    else: \n",
    "        return -1\n",
    "\n",
    "  \n",
    "# Driver Code \n",
    "arr = [ 2, 3, 4, 10, 40 ]; \n",
    "x = 10; \n",
    "n = len(arr); \n",
    "#result = linearsearch(arr, n, x) \n",
    "result = binarySearch(arr, 0, len(arr)-1, x)\n",
    "if(result == -1): \n",
    "    print(\"Element is not present in array\") \n",
    "else: \n",
    "    print(\"Element is present at index\", result); "
   ]
  },
  {
   "cell_type": "markdown",
   "metadata": {},
   "source": [
    "### 33. Construct a Python class named Rectangle constructed by a length and width and a method which will compute the area of a rectangle."
   ]
  },
  {
   "cell_type": "code",
   "execution_count": null,
   "metadata": {},
   "outputs": [],
   "source": []
  },
  {
   "cell_type": "markdown",
   "metadata": {},
   "source": [
    "### 34. Compare the time complexity of sorting the elements of list and tuple."
   ]
  },
  {
   "cell_type": "code",
   "execution_count": 32,
   "metadata": {},
   "outputs": [
    {
     "name": "stdout",
     "output_type": "stream",
     "text": [
      "[1, 2, 3, 4]\n",
      "[1, 2, 3, 4, 5]\n"
     ]
    }
   ],
   "source": [
    "numbers = [1, 3, 4, 2] \n",
    "  \n",
    "# Sorting list of Integers in ascending \n",
    "numbers.sort()   \n",
    "print(numbers) \n",
    "\n",
    "a = (1,3,2,5,4)\n",
    "print(sorted(a))"
   ]
  },
  {
   "cell_type": "markdown",
   "metadata": {},
   "source": [
    "### 35.Compare the time complexity of searching a key element from the elements of list and tuple."
   ]
  },
  {
   "cell_type": "code",
   "execution_count": 34,
   "metadata": {},
   "outputs": [
    {
     "name": "stdout",
     "output_type": "stream",
     "text": [
      "Element Exists\n",
      "Element Exists\n"
     ]
    }
   ],
   "source": [
    "test_list = [ 1, 6, 3, 5, 3, 4 ]\n",
    "for i in test_list: \n",
    "    if(i == 4) : \n",
    "        print (\"Element Exists\")\n",
    "\n",
    "test_list = ( 1, 6, 3, 5, 3, 4 )\n",
    "for i in test_list: \n",
    "    if(i == 4) : \n",
    "        print (\"Element Exists\") "
   ]
  },
  {
   "cell_type": "markdown",
   "metadata": {},
   "source": [
    "### 36. Given a square matrix of N rows and columns, examine whether it is symmetric or not."
   ]
  },
  {
   "cell_type": "code",
   "execution_count": null,
   "metadata": {},
   "outputs": [],
   "source": []
  },
  {
   "cell_type": "markdown",
   "metadata": {},
   "source": [
    "### 37. Given a matrix with N rows and M columns, examine if the matrix is a Binary Matrix. Abinary matrix is a matrix in which all the elements are either 0 or 1."
   ]
  },
  {
   "cell_type": "code",
   "execution_count": null,
   "metadata": {},
   "outputs": [],
   "source": []
  },
  {
   "cell_type": "markdown",
   "metadata": {},
   "source": [
    "### 38. Construct a program to create a class called rectangle with the help of a corner point, width and height. Construct following methods and demonstrate their working:\n",
    "### a. To find and display center of rectangle\n",
    "### b. To display point as an ordered pair\n",
    "### c. To resize the rectangle"
   ]
  },
  {
   "cell_type": "code",
   "execution_count": 2,
   "metadata": {},
   "outputs": [
    {
     "name": "stdout",
     "output_type": "stream",
     "text": [
      "Length: 5, Width: 6, Bottom Left: (0, 0), Bottom Right: (5, 0), Top Left: (0, 6), Top Right: (5, 6)\n",
      "Center is: (3.0, 2.5)\n",
      "With the same left corner point, pick a width and height to modify:\n",
      "Enter the new length:12\n",
      "Enter the new width:4\n",
      "Length: 12, Width: 4, Bottom Left: (0, 0), Bottom Right: (12, 0), Top Left: (0, 4), Top Right: (12, 4)\n"
     ]
    }
   ],
   "source": [
    "class Rectangle(object):\n",
    "    def __init__(self, l=0, w=0, cp=(0, 0)):\n",
    "        self.length = l\n",
    "        self.width = w\n",
    "        self.bottom_left_corner = cp\n",
    "        self.bottom_right_corner = (cp[0] + l, cp[1])\n",
    "        self.top_left_corner = (cp[0], cp[1] + w)\n",
    "        self.top_right_corner = (cp[0] + l, cp[1] + w)\n",
    "        self.center = (cp[0] + (w / 2), cp[1] + (l / 2))\n",
    "\n",
    "    def display_center(self):\n",
    "        print(f\"Center is: {self.center}\")\n",
    "\n",
    "    def __str__(self):\n",
    "        return f\"Length: {self.length}, Width: {self.width}, Bottom Left: {self.bottom_left_corner}, Bottom Right: {self.bottom_right_corner}, Top Left: {self.top_left_corner}, Top Right: {self.top_right_corner}\"\n",
    "\n",
    "    def resize(self):\n",
    "        print(\n",
    "            \"With the same left corner point, pick a width and height to modify:\"\n",
    "        )\n",
    "        self.length = int(input(\"Enter the new length:\"))\n",
    "        self.width = int(input(\"Enter the new width:\"))\n",
    "        self.__init__(l=self.length, w=self.width, cp=self.bottom_left_corner)\n",
    "        print(self)\n",
    "\n",
    "\n",
    "r = Rectangle(5, 6, (0, 0))\n",
    "print(r)\n",
    "r.display_center()\n",
    "r.resize()"
   ]
  },
  {
   "cell_type": "markdown",
   "metadata": {},
   "source": [
    "###  39. Construct a python class named circle constructed by a radius and two methods which will compute the area and the perimeter of a circle."
   ]
  },
  {
   "cell_type": "code",
   "execution_count": 7,
   "metadata": {},
   "outputs": [
    {
     "name": "stdout",
     "output_type": "stream",
     "text": [
      "200.96\n",
      "50.24\n"
     ]
    }
   ],
   "source": [
    "class Circle():\n",
    "    def __init__(self, r):\n",
    "        self.radius = r\n",
    "\n",
    "    def area(self):\n",
    "        return self.radius**2 * 3.14\n",
    "\n",
    "    def perimeter(self):\n",
    "        return 2 * self.radius * 3.14\n",
    "\n",
    "\n",
    "new_circle = Circle(8)\n",
    "print(new_circle.area())\n",
    "print(new_circle.perimeter())\n"
   ]
  },
  {
   "cell_type": "markdown",
   "metadata": {},
   "source": [
    "### 40.Develop python program to create a class in which one method accepts a string from the user and another one prints it."
   ]
  },
  {
   "cell_type": "code",
   "execution_count": 4,
   "metadata": {},
   "outputs": [
    {
     "name": "stdout",
     "output_type": "stream",
     "text": [
      "fdfd\n",
      "Printing:fdfd\n"
     ]
    }
   ],
   "source": [
    "class IOString():\n",
    "    def __init__(self):\n",
    "        self.str1 = \"\"\n",
    "\n",
    "    def get_String(self):\n",
    "        self.str1 = input()\n",
    "\n",
    "    def print_String(self):\n",
    "        print(\"Printing:\" + self.str1)\n",
    "\n",
    "\n",
    "str1 = IOString()\n",
    "str1.get_String()\n",
    "str1.print_String()\n",
    "\n"
   ]
  },
  {
   "cell_type": "markdown",
   "metadata": {},
   "source": [
    "### 41. Develop python program to create a class which performs basic calculator operations."
   ]
  },
  {
   "cell_type": "code",
   "execution_count": 3,
   "metadata": {},
   "outputs": [
    {
     "name": "stdout",
     "output_type": "stream",
     "text": [
      "Enter first number: 1\n",
      "Enter second number: 2\n",
      "0. Exit\n",
      "1. Add\n",
      "2. Subtraction\n",
      "3. Multiplication\n",
      "4. Division\n",
      "Enter choice: 1\n",
      "Result:  3\n",
      "0. Exit\n",
      "1. Add\n",
      "2. Subtraction\n",
      "3. Multiplication\n",
      "4. Division\n",
      "Enter choice: 0\n",
      "Exiting!\n"
     ]
    }
   ],
   "source": [
    "class Cal():\n",
    "    def __init__(self, a, b):\n",
    "        self.a = a\n",
    "        self.b = b\n",
    "\n",
    "    def add(self):\n",
    "        return self.a + self.b\n",
    "\n",
    "    def mul(self):\n",
    "        return self.a * self.b\n",
    "\n",
    "    def div(self):\n",
    "        return self.a / self.b\n",
    "\n",
    "    def sub(self):\n",
    "        return self.a - self.b\n",
    "\n",
    "\n",
    "a = int(input(\"Enter first number: \"))\n",
    "b = int(input(\"Enter second number: \"))\n",
    "obj = Cal(a, b)\n",
    "choice = 1\n",
    "while choice != 0:\n",
    "    print(\"0. Exit\")\n",
    "    print(\"1. Add\")\n",
    "    print(\"2. Subtraction\")\n",
    "    print(\"3. Multiplication\")\n",
    "    print(\"4. Division\")\n",
    "    choice = int(input(\"Enter choice: \"))\n",
    "    if choice == 1:\n",
    "        print(\"Result: \", obj.add())\n",
    "    elif choice == 2:\n",
    "        print(\"Result: \", obj.sub())\n",
    "    elif choice == 3:\n",
    "        print(\"Result: \", obj.mul())\n",
    "    elif choice == 4:\n",
    "        print(\"Result: \", round(obj.div(), 2))\n",
    "    elif choice == 0:\n",
    "        print(\"Exiting!\")\n",
    "    else:\n",
    "        print(\"Invalid choice!!\")"
   ]
  },
  {
   "cell_type": "markdown",
   "metadata": {},
   "source": [
    "### 42. Develop python program to create class called point and method named distance_between_points( ) that takes two points as arguments and returns the distance between them."
   ]
  },
  {
   "cell_type": "code",
   "execution_count": 5,
   "metadata": {},
   "outputs": [
    {
     "name": "stdout",
     "output_type": "stream",
     "text": [
      "6.0\n"
     ]
    }
   ],
   "source": [
    "import math\n",
    "\n",
    "\n",
    "class Point():\n",
    "    def __init__(self, init_x, init_y):\n",
    "        self.x = init_x\n",
    "        self.y = init_y\n",
    "\n",
    "    @staticmethod\n",
    "    def distance(p1, p2):\n",
    "        \"\"\"Returns the distance between two points in 2d space.\"\"\"\n",
    "        delta_x = p2.x - p1.x\n",
    "        delta_y = p2.y - p1.y\n",
    "        return math.sqrt(delta_x**2 + delta_y**2)\n",
    "\n",
    "\n",
    "p = Point(0, 0)\n",
    "q = Point(6, 0)\n",
    "print(Point.distance(p, q))"
   ]
  },
  {
   "cell_type": "markdown",
   "metadata": {},
   "source": [
    "### 43. Develop python program to create class named rectangle and a method named move_rectangle( ) that takes a rectangle and two numbers named dx and dy. It should change the location of the rectangle by adding dx to the x coordinate of corner and adding dy to the y coordinate of corner."
   ]
  },
  {
   "cell_type": "code",
   "execution_count": 6,
   "metadata": {},
   "outputs": [
    {
     "name": "stdout",
     "output_type": "stream",
     "text": [
      "Length: 5 Width: 7 Corner Point: (0, 0)\n",
      "Enter the value for dx:2\n",
      "Enter the value for dy:2\n",
      "Length: 5 Width: 7 Corner Point: (2, 2)\n"
     ]
    }
   ],
   "source": [
    "class Rectangle(object):\n",
    "    def __init__(self, l=0, w=0, cp=(0, 0)):\n",
    "        self.length = l\n",
    "        self.width = w\n",
    "        self.corner_point = cp\n",
    "    \n",
    "    def move_rectangle(self):\n",
    "        dx = int(input(\"Enter the value for dx:\"))\n",
    "        dy = int(input(\"Enter the value for dy:\"))\n",
    "        old_x = self.corner_point[0]\n",
    "        old_y = self.corner_point[1]\n",
    "        self.corner_point = (old_x + dx, old_y + dy)\n",
    "    def __str__(self):\n",
    "        return f\"Length: {self.length} Width: {self.width} Corner Point: {self.corner_point}\"\n",
    "    \n",
    "r = Rectangle(5, 7, (0, 0))\n",
    "print(r)\n",
    "r.move_rectangle()\n",
    "print(r)"
   ]
  },
  {
   "cell_type": "markdown",
   "metadata": {},
   "source": [
    "### 44.Develop a program to create a class called point with two attributes x and y. Apply following methods and demonstrate the working read and display methods by creating suitable objects."
   ]
  },
  {
   "cell_type": "code",
   "execution_count": null,
   "metadata": {},
   "outputs": [],
   "source": []
  },
  {
   "cell_type": "markdown",
   "metadata": {},
   "source": [
    "### 45.Construct a class named Circle with attributes center and radius, where center is a Point object and radius is a number. Instantiate a Circle object that represents a circle with its center at (150,100) and radius 75. Develop the code snippets for below scenarios,\n",
    "#### a) Construct a function named point_in_circle that takes a Circle and a Point and returns True if the point lies in or on the boundary of the circle.\n",
    "#### b) Construct a function named rect_in_circle that takes a Circle and a Rectangle and returns True if the Rectangle lies entirely in or on the boundary of the circle.\n",
    "#### c) Construct a function named rect_in_circle_overlap that takes a Circle and a Rectangle and returns True if the corners of the Rectangle falls inside the circle.\n",
    "#### d) Construct a function called draw_rect that takes a Turtle object and a Rectangle and uses the Turtle to draw the Rectangle.\n",
    "#### e) Construct a function called draw_circle that takes a Turtle object and a Circle and uses the Turtle to draw the Circle.\n",
    "##### Note: Rectangle is a class with attributes length, breadth, and corner(Point Object)"
   ]
  },
  {
   "cell_type": "code",
   "execution_count": null,
   "metadata": {},
   "outputs": [],
   "source": []
  }
 ],
 "metadata": {
  "kernelspec": {
   "display_name": "Python 3",
   "language": "python",
   "name": "python3"
  },
  "language_info": {
   "codemirror_mode": {
    "name": "ipython",
    "version": 3
   },
   "file_extension": ".py",
   "mimetype": "text/x-python",
   "name": "python",
   "nbconvert_exporter": "python",
   "pygments_lexer": "ipython3",
   "version": "3.6.7"
  }
 },
 "nbformat": 4,
 "nbformat_minor": 2
}
